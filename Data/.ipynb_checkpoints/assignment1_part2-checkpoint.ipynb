{
 "cells": [
  {
   "cell_type": "code",
   "execution_count": 49,
   "metadata": {},
   "outputs": [],
   "source": [
    "import networkx as nx\n",
    "import pandas as pd\n",
    "import re\n",
    "\n",
    "raw = pd.read_csv('Kobe_5101.csv')"
   ]
  },
  {
   "cell_type": "code",
   "execution_count": 50,
   "metadata": {},
   "outputs": [
    {
     "data": {
      "text/html": [
       "<div>\n",
       "<style scoped>\n",
       "    .dataframe tbody tr th:only-of-type {\n",
       "        vertical-align: middle;\n",
       "    }\n",
       "\n",
       "    .dataframe tbody tr th {\n",
       "        vertical-align: top;\n",
       "    }\n",
       "\n",
       "    .dataframe thead th {\n",
       "        text-align: right;\n",
       "    }\n",
       "</style>\n",
       "<table border=\"1\" class=\"dataframe\">\n",
       "  <thead>\n",
       "    <tr style=\"text-align: right;\">\n",
       "      <th></th>\n",
       "      <th>username</th>\n",
       "      <th>to</th>\n",
       "      <th>type</th>\n",
       "    </tr>\n",
       "  </thead>\n",
       "  <tbody>\n",
       "    <tr>\n",
       "      <td>0</td>\n",
       "      <td>msantos824</td>\n",
       "      <td>therealjoemoses</td>\n",
       "      <td>RT</td>\n",
       "    </tr>\n",
       "    <tr>\n",
       "      <td>1</td>\n",
       "      <td>jenvrgs</td>\n",
       "      <td>jenvrgs</td>\n",
       "      <td>Tweet</td>\n",
       "    </tr>\n",
       "    <tr>\n",
       "      <td>2</td>\n",
       "      <td>hungrrypanda</td>\n",
       "      <td>barstoolsports</td>\n",
       "      <td>RT</td>\n",
       "    </tr>\n",
       "    <tr>\n",
       "      <td>3</td>\n",
       "      <td>alessaJBiebs1</td>\n",
       "      <td>alessaJBiebs1</td>\n",
       "      <td>Tweet</td>\n",
       "    </tr>\n",
       "    <tr>\n",
       "      <td>4</td>\n",
       "      <td>Julkee</td>\n",
       "      <td>Julkee</td>\n",
       "      <td>Tweet</td>\n",
       "    </tr>\n",
       "    <tr>\n",
       "      <td>...</td>\n",
       "      <td>...</td>\n",
       "      <td>...</td>\n",
       "      <td>...</td>\n",
       "    </tr>\n",
       "    <tr>\n",
       "      <td>5095</td>\n",
       "      <td>CorreodelCaroni</td>\n",
       "      <td>CorreodelCaroni</td>\n",
       "      <td>Tweet</td>\n",
       "    </tr>\n",
       "    <tr>\n",
       "      <td>5096</td>\n",
       "      <td>Daron07018882</td>\n",
       "      <td>Daron07018882</td>\n",
       "      <td>Tweet</td>\n",
       "    </tr>\n",
       "    <tr>\n",
       "      <td>5097</td>\n",
       "      <td>Crimson_Peej</td>\n",
       "      <td>DragonflyJonez</td>\n",
       "      <td>RT</td>\n",
       "    </tr>\n",
       "    <tr>\n",
       "      <td>5098</td>\n",
       "      <td>YouSweatHer</td>\n",
       "      <td>YouSweatHer</td>\n",
       "      <td>Tweet</td>\n",
       "    </tr>\n",
       "    <tr>\n",
       "      <td>5099</td>\n",
       "      <td>LaurHof11</td>\n",
       "      <td>LaurHof11</td>\n",
       "      <td>Tweet</td>\n",
       "    </tr>\n",
       "  </tbody>\n",
       "</table>\n",
       "<p>5100 rows × 3 columns</p>\n",
       "</div>"
      ],
      "text/plain": [
       "             username               to   type\n",
       "0          msantos824  therealjoemoses     RT\n",
       "1             jenvrgs          jenvrgs  Tweet\n",
       "2        hungrrypanda   barstoolsports     RT\n",
       "3       alessaJBiebs1    alessaJBiebs1  Tweet\n",
       "4              Julkee           Julkee  Tweet\n",
       "...               ...              ...    ...\n",
       "5095  CorreodelCaroni  CorreodelCaroni  Tweet\n",
       "5096    Daron07018882    Daron07018882  Tweet\n",
       "5097     Crimson_Peej   DragonflyJonez     RT\n",
       "5098      YouSweatHer      YouSweatHer  Tweet\n",
       "5099        LaurHof11        LaurHof11  Tweet\n",
       "\n",
       "[5100 rows x 3 columns]"
      ]
     },
     "execution_count": 50,
     "metadata": {},
     "output_type": "execute_result"
    }
   ],
   "source": [
    "# takes the two columns needed\n",
    "\n",
    "raw['type'] = raw['to'].isna().map(lambda s : 'Tweet' if s else 'RT')\n",
    "\n",
    "edges = raw[['username','to', 'type']].ffill(axis=1)\n",
    "edges"
   ]
  },
  {
   "cell_type": "code",
   "execution_count": 98,
   "metadata": {},
   "outputs": [],
   "source": [
    "raw = pd.read_csv('kobe_tweets_for_truett.csv')"
   ]
  },
  {
   "cell_type": "code",
   "execution_count": 101,
   "metadata": {},
   "outputs": [
    {
     "name": "stderr",
     "output_type": "stream",
     "text": [
      "C:\\Users\\chris\\Anaconda3\\lib\\site-packages\\ipykernel_launcher.py:8: SettingWithCopyWarning: \n",
      "A value is trying to be set on a copy of a slice from a DataFrame.\n",
      "Try using .loc[row_indexer,col_indexer] = value instead\n",
      "\n",
      "See the caveats in the documentation: http://pandas.pydata.org/pandas-docs/stable/user_guide/indexing.html#returning-a-view-versus-a-copy\n",
      "  \n",
      "C:\\Users\\chris\\Anaconda3\\lib\\site-packages\\ipykernel_launcher.py:9: SettingWithCopyWarning: \n",
      "A value is trying to be set on a copy of a slice from a DataFrame.\n",
      "Try using .loc[row_indexer,col_indexer] = value instead\n",
      "\n",
      "See the caveats in the documentation: http://pandas.pydata.org/pandas-docs/stable/user_guide/indexing.html#returning-a-view-versus-a-copy\n",
      "  if __name__ == '__main__':\n",
      "C:\\Users\\chris\\Anaconda3\\lib\\site-packages\\ipykernel_launcher.py:12: SettingWithCopyWarning: \n",
      "A value is trying to be set on a copy of a slice from a DataFrame.\n",
      "Try using .loc[row_indexer,col_indexer] = value instead\n",
      "\n",
      "See the caveats in the documentation: http://pandas.pydata.org/pandas-docs/stable/user_guide/indexing.html#returning-a-view-versus-a-copy\n",
      "  if sys.path[0] == '':\n",
      "C:\\Users\\chris\\Anaconda3\\lib\\site-packages\\ipykernel_launcher.py:14: SettingWithCopyWarning: \n",
      "A value is trying to be set on a copy of a slice from a DataFrame\n",
      "\n",
      "See the caveats in the documentation: http://pandas.pydata.org/pandas-docs/stable/user_guide/indexing.html#returning-a-view-versus-a-copy\n",
      "  \n"
     ]
    },
    {
     "data": {
      "text/html": [
       "<div>\n",
       "<style scoped>\n",
       "    .dataframe tbody tr th:only-of-type {\n",
       "        vertical-align: middle;\n",
       "    }\n",
       "\n",
       "    .dataframe tbody tr th {\n",
       "        vertical-align: top;\n",
       "    }\n",
       "\n",
       "    .dataframe thead th {\n",
       "        text-align: right;\n",
       "    }\n",
       "</style>\n",
       "<table border=\"1\" class=\"dataframe\">\n",
       "  <thead>\n",
       "    <tr style=\"text-align: right;\">\n",
       "      <th></th>\n",
       "      <th>username</th>\n",
       "      <th>type</th>\n",
       "      <th>to</th>\n",
       "    </tr>\n",
       "  </thead>\n",
       "  <tbody>\n",
       "    <tr>\n",
       "      <td>0</td>\n",
       "      <td>@Mamba_Insider</td>\n",
       "      <td>RT</td>\n",
       "      <td>@Mamba_Insider</td>\n",
       "    </tr>\n",
       "    <tr>\n",
       "      <td>1</td>\n",
       "      <td>@veronn296</td>\n",
       "      <td>RT</td>\n",
       "      <td>@abscbnsports</td>\n",
       "    </tr>\n",
       "    <tr>\n",
       "      <td>2</td>\n",
       "      <td>@BoaAndre89</td>\n",
       "      <td>RT</td>\n",
       "      <td>@OakProfessorone</td>\n",
       "    </tr>\n",
       "    <tr>\n",
       "      <td>3</td>\n",
       "      <td>@mncube</td>\n",
       "      <td>Tweet</td>\n",
       "      <td>@mncube</td>\n",
       "    </tr>\n",
       "    <tr>\n",
       "      <td>4</td>\n",
       "      <td>@ChrisHs22</td>\n",
       "      <td>RT</td>\n",
       "      <td>@EHernandezTV</td>\n",
       "    </tr>\n",
       "    <tr>\n",
       "      <td>...</td>\n",
       "      <td>...</td>\n",
       "      <td>...</td>\n",
       "      <td>...</td>\n",
       "    </tr>\n",
       "    <tr>\n",
       "      <td>4995</td>\n",
       "      <td>@MJ23KOBE24</td>\n",
       "      <td>RT</td>\n",
       "      <td>@ESPNNBA</td>\n",
       "    </tr>\n",
       "    <tr>\n",
       "      <td>4996</td>\n",
       "      <td>@postmaazlone</td>\n",
       "      <td>RT</td>\n",
       "      <td>@ibIuemyself</td>\n",
       "    </tr>\n",
       "    <tr>\n",
       "      <td>4997</td>\n",
       "      <td>@Nbjadedd</td>\n",
       "      <td>RT</td>\n",
       "      <td>@TheHoopCentral</td>\n",
       "    </tr>\n",
       "    <tr>\n",
       "      <td>4998</td>\n",
       "      <td>@YeahISaidIt_pod</td>\n",
       "      <td>Tweet</td>\n",
       "      <td>@YeahISaidIt_pod</td>\n",
       "    </tr>\n",
       "    <tr>\n",
       "      <td>4999</td>\n",
       "      <td>@bisbila</td>\n",
       "      <td>RT</td>\n",
       "      <td>@timelesssports_</td>\n",
       "    </tr>\n",
       "  </tbody>\n",
       "</table>\n",
       "<p>5000 rows × 3 columns</p>\n",
       "</div>"
      ],
      "text/plain": [
       "              username   type                to\n",
       "0       @Mamba_Insider     RT    @Mamba_Insider\n",
       "1           @veronn296     RT     @abscbnsports\n",
       "2          @BoaAndre89     RT  @OakProfessorone\n",
       "3              @mncube  Tweet           @mncube\n",
       "4           @ChrisHs22     RT     @EHernandezTV\n",
       "...                ...    ...               ...\n",
       "4995       @MJ23KOBE24     RT          @ESPNNBA\n",
       "4996     @postmaazlone     RT      @ibIuemyself\n",
       "4997         @Nbjadedd     RT   @TheHoopCentral\n",
       "4998  @YeahISaidIt_pod  Tweet  @YeahISaidIt_pod\n",
       "4999          @bisbila     RT  @timelesssports_\n",
       "\n",
       "[5000 rows x 3 columns]"
      ]
     },
     "execution_count": 101,
     "metadata": {},
     "output_type": "execute_result"
    }
   ],
   "source": [
    "def find_user(s):\n",
    "    match = re.search(r'@[a-zA-Z0-9_]*', s)\n",
    "    if (match != None):\n",
    "        return match.group(0)\n",
    "    return None\n",
    "\n",
    "edges = raw[['username','text']]\n",
    "edges['username'] = edges['username'].map(lambda s : '@' + s)\n",
    "edges['type'] = edges['text'].map(lambda s : 'RT' if 'RT' in s[:5] else 'Tweet')\n",
    "\n",
    "\n",
    "edges['to'] = edges['text'].map(find_user)\n",
    "\n",
    "edges.loc[(edges.type == 'Tweet'), 'to'] = edges.username\n",
    "\n",
    "edges.drop('text',axis=1,inplace=True)\n",
    "edges"
   ]
  },
  {
   "cell_type": "markdown",
   "metadata": {},
   "source": [
    "# getting unique users in df for phantombuster"
   ]
  },
  {
   "cell_type": "code",
   "execution_count": 102,
   "metadata": {},
   "outputs": [
    {
     "data": {
      "text/plain": [
       "4435"
      ]
     },
     "execution_count": 102,
     "metadata": {},
     "output_type": "execute_result"
    }
   ],
   "source": [
    "len(edges[\"username\"].unique())"
   ]
  },
  {
   "cell_type": "code",
   "execution_count": 103,
   "metadata": {},
   "outputs": [],
   "source": [
    "all_users = edges[\"username\"].append(edges[\"to\"])"
   ]
  },
  {
   "cell_type": "code",
   "execution_count": 104,
   "metadata": {},
   "outputs": [
    {
     "data": {
      "text/plain": [
       "array(['@Mamba_Insider', '@veronn296', '@BoaAndre89', ..., '@MIGGGGA',\n",
       "       '@Jmillio1000', '@ibIuemyself'], dtype=object)"
      ]
     },
     "execution_count": 104,
     "metadata": {},
     "output_type": "execute_result"
    }
   ],
   "source": [
    "all_users.unique()"
   ]
  },
  {
   "cell_type": "code",
   "execution_count": 105,
   "metadata": {},
   "outputs": [],
   "source": [
    "unique_users = pd.Series(all_users.unique())\n",
    "users_df = pd.DataFrame(unique_users)"
   ]
  },
  {
   "cell_type": "code",
   "execution_count": 106,
   "metadata": {},
   "outputs": [],
   "source": [
    "users_df.to_csv(\"users.csv\")"
   ]
  },
  {
   "cell_type": "markdown",
   "metadata": {},
   "source": [
    "# create new df with user statistics added"
   ]
  },
  {
   "cell_type": "code",
   "execution_count": 107,
   "metadata": {},
   "outputs": [],
   "source": [
    "user_stats = pd.read_csv('users_profile_data.csv')"
   ]
  },
  {
   "cell_type": "code",
   "execution_count": 108,
   "metadata": {},
   "outputs": [
    {
     "data": {
      "text/html": [
       "<div>\n",
       "<style scoped>\n",
       "    .dataframe tbody tr th:only-of-type {\n",
       "        vertical-align: middle;\n",
       "    }\n",
       "\n",
       "    .dataframe tbody tr th {\n",
       "        vertical-align: top;\n",
       "    }\n",
       "\n",
       "    .dataframe thead th {\n",
       "        text-align: right;\n",
       "    }\n",
       "</style>\n",
       "<table border=\"1\" class=\"dataframe\">\n",
       "  <thead>\n",
       "    <tr style=\"text-align: right;\">\n",
       "      <th></th>\n",
       "      <th>tweetsCount</th>\n",
       "      <th>followers</th>\n",
       "      <th>following</th>\n",
       "      <th>likes</th>\n",
       "      <th>lists</th>\n",
       "      <th>name</th>\n",
       "      <th>twitterProfile</th>\n",
       "      <th>bio</th>\n",
       "      <th>handle</th>\n",
       "      <th>location</th>\n",
       "      <th>website</th>\n",
       "      <th>joinDate</th>\n",
       "      <th>protectedAccount</th>\n",
       "      <th>followback</th>\n",
       "      <th>query</th>\n",
       "      <th>timestamp</th>\n",
       "      <th>error</th>\n",
       "    </tr>\n",
       "  </thead>\n",
       "  <tbody>\n",
       "    <tr>\n",
       "      <td>0</td>\n",
       "      <td>4238.0</td>\n",
       "      <td>47.0</td>\n",
       "      <td>615.0</td>\n",
       "      <td>4238.0</td>\n",
       "      <td>1.0</td>\n",
       "      <td>Michael Santos</td>\n",
       "      <td>https://twitter.com/msantos824</td>\n",
       "      <td>using twitter for information</td>\n",
       "      <td>@msantos824</td>\n",
       "      <td>NaN</td>\n",
       "      <td>NaN</td>\n",
       "      <td>2013-09-24T12:51:04.000Z</td>\n",
       "      <td>NaN</td>\n",
       "      <td>NaN</td>\n",
       "      <td>msantos824</td>\n",
       "      <td>2020-02-07T22:48:42.901Z</td>\n",
       "      <td>NaN</td>\n",
       "    </tr>\n",
       "    <tr>\n",
       "      <td>1</td>\n",
       "      <td>74400.0</td>\n",
       "      <td>2909.0</td>\n",
       "      <td>1027.0</td>\n",
       "      <td>74400.0</td>\n",
       "      <td>8.0</td>\n",
       "      <td>9</td>\n",
       "      <td>https://twitter.com/jenvrgs</td>\n",
       "      <td>kind of a big deallll</td>\n",
       "      <td>@jenvrgs</td>\n",
       "      <td>Maryland, USA</td>\n",
       "      <td>https://instagram.com/jennvrgs</td>\n",
       "      <td>2012-07-07T04:16:02.000Z</td>\n",
       "      <td>NaN</td>\n",
       "      <td>NaN</td>\n",
       "      <td>jenvrgs</td>\n",
       "      <td>2020-02-07T22:48:44.230Z</td>\n",
       "      <td>NaN</td>\n",
       "    </tr>\n",
       "    <tr>\n",
       "      <td>2</td>\n",
       "      <td>7683.0</td>\n",
       "      <td>121.0</td>\n",
       "      <td>767.0</td>\n",
       "      <td>7683.0</td>\n",
       "      <td>7.0</td>\n",
       "      <td>hungrrypanda</td>\n",
       "      <td>https://twitter.com/hungrrypanda</td>\n",
       "      <td>California girl doing a little East Coast Livi...</td>\n",
       "      <td>@hungrrypanda</td>\n",
       "      <td>Boston</td>\n",
       "      <td>NaN</td>\n",
       "      <td>2011-04-09T15:15:21.000Z</td>\n",
       "      <td>NaN</td>\n",
       "      <td>NaN</td>\n",
       "      <td>hungrrypanda</td>\n",
       "      <td>2020-02-07T22:48:45.590Z</td>\n",
       "      <td>NaN</td>\n",
       "    </tr>\n",
       "    <tr>\n",
       "      <td>3</td>\n",
       "      <td>3923.0</td>\n",
       "      <td>54.0</td>\n",
       "      <td>208.0</td>\n",
       "      <td>3923.0</td>\n",
       "      <td>NaN</td>\n",
       "      <td>Alessandra</td>\n",
       "      <td>https://twitter.com/alessaJBiebs1</td>\n",
       "      <td>Shaking hands with the dark parts øf my thøughts.</td>\n",
       "      <td>@alessaJBiebs1</td>\n",
       "      <td>NaN</td>\n",
       "      <td>NaN</td>\n",
       "      <td>2018-07-19T21:27:37.000Z</td>\n",
       "      <td>NaN</td>\n",
       "      <td>NaN</td>\n",
       "      <td>alessaJBiebs1</td>\n",
       "      <td>2020-02-07T22:48:46.765Z</td>\n",
       "      <td>NaN</td>\n",
       "    </tr>\n",
       "    <tr>\n",
       "      <td>4</td>\n",
       "      <td>345.0</td>\n",
       "      <td>86.0</td>\n",
       "      <td>206.0</td>\n",
       "      <td>345.0</td>\n",
       "      <td>2.0</td>\n",
       "      <td>Julkee</td>\n",
       "      <td>https://twitter.com/Julkee</td>\n",
       "      <td>Escuche la ciudad respirando. Listen the city ...</td>\n",
       "      <td>@Julkee</td>\n",
       "      <td>Puebla</td>\n",
       "      <td>NaN</td>\n",
       "      <td>2009-04-25T06:13:53.000Z</td>\n",
       "      <td>NaN</td>\n",
       "      <td>NaN</td>\n",
       "      <td>Julkee</td>\n",
       "      <td>2020-02-07T22:48:47.907Z</td>\n",
       "      <td>NaN</td>\n",
       "    </tr>\n",
       "  </tbody>\n",
       "</table>\n",
       "</div>"
      ],
      "text/plain": [
       "   tweetsCount  followers  following    likes  lists            name  \\\n",
       "0       4238.0       47.0      615.0   4238.0    1.0  Michael Santos   \n",
       "1      74400.0     2909.0     1027.0  74400.0    8.0               9   \n",
       "2       7683.0      121.0      767.0   7683.0    7.0    hungrrypanda   \n",
       "3       3923.0       54.0      208.0   3923.0    NaN      Alessandra   \n",
       "4        345.0       86.0      206.0    345.0    2.0          Julkee   \n",
       "\n",
       "                      twitterProfile  \\\n",
       "0     https://twitter.com/msantos824   \n",
       "1        https://twitter.com/jenvrgs   \n",
       "2   https://twitter.com/hungrrypanda   \n",
       "3  https://twitter.com/alessaJBiebs1   \n",
       "4         https://twitter.com/Julkee   \n",
       "\n",
       "                                                 bio          handle  \\\n",
       "0                      using twitter for information     @msantos824   \n",
       "1                              kind of a big deallll        @jenvrgs   \n",
       "2  California girl doing a little East Coast Livi...   @hungrrypanda   \n",
       "3  Shaking hands with the dark parts øf my thøughts.  @alessaJBiebs1   \n",
       "4  Escuche la ciudad respirando. Listen the city ...         @Julkee   \n",
       "\n",
       "        location                         website                  joinDate  \\\n",
       "0            NaN                             NaN  2013-09-24T12:51:04.000Z   \n",
       "1  Maryland, USA  https://instagram.com/jennvrgs  2012-07-07T04:16:02.000Z   \n",
       "2         Boston                             NaN  2011-04-09T15:15:21.000Z   \n",
       "3            NaN                             NaN  2018-07-19T21:27:37.000Z   \n",
       "4         Puebla                             NaN  2009-04-25T06:13:53.000Z   \n",
       "\n",
       "   protectedAccount  followback          query                 timestamp error  \n",
       "0               NaN         NaN     msantos824  2020-02-07T22:48:42.901Z   NaN  \n",
       "1               NaN         NaN        jenvrgs  2020-02-07T22:48:44.230Z   NaN  \n",
       "2               NaN         NaN   hungrrypanda  2020-02-07T22:48:45.590Z   NaN  \n",
       "3               NaN         NaN  alessaJBiebs1  2020-02-07T22:48:46.765Z   NaN  \n",
       "4               NaN         NaN         Julkee  2020-02-07T22:48:47.907Z   NaN  "
      ]
     },
     "execution_count": 108,
     "metadata": {},
     "output_type": "execute_result"
    }
   ],
   "source": [
    "user_stats.head()"
   ]
  },
  {
   "cell_type": "code",
   "execution_count": 109,
   "metadata": {},
   "outputs": [
    {
     "data": {
      "text/html": [
       "<div>\n",
       "<style scoped>\n",
       "    .dataframe tbody tr th:only-of-type {\n",
       "        vertical-align: middle;\n",
       "    }\n",
       "\n",
       "    .dataframe tbody tr th {\n",
       "        vertical-align: top;\n",
       "    }\n",
       "\n",
       "    .dataframe thead th {\n",
       "        text-align: right;\n",
       "    }\n",
       "</style>\n",
       "<table border=\"1\" class=\"dataframe\">\n",
       "  <thead>\n",
       "    <tr style=\"text-align: right;\">\n",
       "      <th></th>\n",
       "      <th>query</th>\n",
       "      <th>followers</th>\n",
       "    </tr>\n",
       "  </thead>\n",
       "  <tbody>\n",
       "    <tr>\n",
       "      <td>0</td>\n",
       "      <td>msantos824</td>\n",
       "      <td>47.0</td>\n",
       "    </tr>\n",
       "    <tr>\n",
       "      <td>1</td>\n",
       "      <td>jenvrgs</td>\n",
       "      <td>2909.0</td>\n",
       "    </tr>\n",
       "    <tr>\n",
       "      <td>2</td>\n",
       "      <td>hungrrypanda</td>\n",
       "      <td>121.0</td>\n",
       "    </tr>\n",
       "    <tr>\n",
       "      <td>3</td>\n",
       "      <td>alessaJBiebs1</td>\n",
       "      <td>54.0</td>\n",
       "    </tr>\n",
       "    <tr>\n",
       "      <td>4</td>\n",
       "      <td>Julkee</td>\n",
       "      <td>86.0</td>\n",
       "    </tr>\n",
       "  </tbody>\n",
       "</table>\n",
       "</div>"
      ],
      "text/plain": [
       "           query  followers\n",
       "0     msantos824       47.0\n",
       "1        jenvrgs     2909.0\n",
       "2   hungrrypanda      121.0\n",
       "3  alessaJBiebs1       54.0\n",
       "4         Julkee       86.0"
      ]
     },
     "execution_count": 109,
     "metadata": {},
     "output_type": "execute_result"
    }
   ],
   "source": [
    "user_followers = user_stats[[\"query\", \"followers\"]]\n",
    "user_followers.head()"
   ]
  },
  {
   "cell_type": "code",
   "execution_count": 110,
   "metadata": {},
   "outputs": [
    {
     "data": {
      "text/html": [
       "<div>\n",
       "<style scoped>\n",
       "    .dataframe tbody tr th:only-of-type {\n",
       "        vertical-align: middle;\n",
       "    }\n",
       "\n",
       "    .dataframe tbody tr th {\n",
       "        vertical-align: top;\n",
       "    }\n",
       "\n",
       "    .dataframe thead th {\n",
       "        text-align: right;\n",
       "    }\n",
       "</style>\n",
       "<table border=\"1\" class=\"dataframe\">\n",
       "  <thead>\n",
       "    <tr style=\"text-align: right;\">\n",
       "      <th></th>\n",
       "      <th>username</th>\n",
       "      <th>type</th>\n",
       "      <th>to</th>\n",
       "    </tr>\n",
       "  </thead>\n",
       "  <tbody>\n",
       "    <tr>\n",
       "      <td>0</td>\n",
       "      <td>@Mamba_Insider</td>\n",
       "      <td>RT</td>\n",
       "      <td>@Mamba_Insider</td>\n",
       "    </tr>\n",
       "    <tr>\n",
       "      <td>1</td>\n",
       "      <td>@veronn296</td>\n",
       "      <td>RT</td>\n",
       "      <td>@abscbnsports</td>\n",
       "    </tr>\n",
       "    <tr>\n",
       "      <td>2</td>\n",
       "      <td>@BoaAndre89</td>\n",
       "      <td>RT</td>\n",
       "      <td>@OakProfessorone</td>\n",
       "    </tr>\n",
       "    <tr>\n",
       "      <td>3</td>\n",
       "      <td>@mncube</td>\n",
       "      <td>Tweet</td>\n",
       "      <td>@mncube</td>\n",
       "    </tr>\n",
       "    <tr>\n",
       "      <td>4</td>\n",
       "      <td>@ChrisHs22</td>\n",
       "      <td>RT</td>\n",
       "      <td>@EHernandezTV</td>\n",
       "    </tr>\n",
       "  </tbody>\n",
       "</table>\n",
       "</div>"
      ],
      "text/plain": [
       "         username   type                to\n",
       "0  @Mamba_Insider     RT    @Mamba_Insider\n",
       "1      @veronn296     RT     @abscbnsports\n",
       "2     @BoaAndre89     RT  @OakProfessorone\n",
       "3         @mncube  Tweet           @mncube\n",
       "4      @ChrisHs22     RT     @EHernandezTV"
      ]
     },
     "execution_count": 110,
     "metadata": {},
     "output_type": "execute_result"
    }
   ],
   "source": [
    "edges.head()"
   ]
  },
  {
   "cell_type": "code",
   "execution_count": 111,
   "metadata": {},
   "outputs": [
    {
     "data": {
      "text/html": [
       "<div>\n",
       "<style scoped>\n",
       "    .dataframe tbody tr th:only-of-type {\n",
       "        vertical-align: middle;\n",
       "    }\n",
       "\n",
       "    .dataframe tbody tr th {\n",
       "        vertical-align: top;\n",
       "    }\n",
       "\n",
       "    .dataframe thead th {\n",
       "        text-align: right;\n",
       "    }\n",
       "</style>\n",
       "<table border=\"1\" class=\"dataframe\">\n",
       "  <thead>\n",
       "    <tr style=\"text-align: right;\">\n",
       "      <th></th>\n",
       "      <th>username</th>\n",
       "      <th>type</th>\n",
       "      <th>to</th>\n",
       "      <th>query</th>\n",
       "      <th>followers</th>\n",
       "    </tr>\n",
       "  </thead>\n",
       "  <tbody>\n",
       "  </tbody>\n",
       "</table>\n",
       "</div>"
      ],
      "text/plain": [
       "Empty DataFrame\n",
       "Columns: [username, type, to, query, followers]\n",
       "Index: []"
      ]
     },
     "execution_count": 111,
     "metadata": {},
     "output_type": "execute_result"
    }
   ],
   "source": [
    "edges_followers = pd.merge(edges, user_followers, left_on = \"username\", right_on = \"query\")\n",
    "edges_followers.head()"
   ]
  },
  {
   "cell_type": "code",
   "execution_count": 37,
   "metadata": {},
   "outputs": [
    {
     "name": "stdout",
     "output_type": "stream",
     "text": [
      "username      0.000000\n",
      "to            0.000000\n",
      "type          0.000000\n",
      "query         0.000000\n",
      "followers    18.095238\n",
      "dtype: float64\n"
     ]
    }
   ],
   "source": [
    "print(edges_followers.isnull().sum()/len(edges_followers)*100)"
   ]
  },
  {
   "cell_type": "code",
   "execution_count": 45,
   "metadata": {},
   "outputs": [
    {
     "data": {
      "image/png": "[encoded data removed]",
      "text/plain": [
       "<Figure size 432x288 with 1 Axes>"
      ]
     },
     "metadata": {
      "needs_background": "light"
     },
     "output_type": "display_data"
    }
   ],
   "source": [
    "import matplotlib.pyplot as plt\n",
    "edges_followers.hist(bins = 100)\n",
    "plt.show()"
   ]
  },
  {
   "cell_type": "code",
   "execution_count": 44,
   "metadata": {},
   "outputs": [
    {
     "data": {
      "text/plain": [
       "480.0"
      ]
     },
     "execution_count": 44,
     "metadata": {},
     "output_type": "execute_result"
    }
   ],
   "source": [
    "edges_followers[\"followers\"].median()"
   ]
  },
  {
   "cell_type": "code",
   "execution_count": 50,
   "metadata": {},
   "outputs": [
    {
     "name": "stdout",
     "output_type": "stream",
     "text": [
      "username     0.0\n",
      "to           0.0\n",
      "type         0.0\n",
      "query        0.0\n",
      "followers    0.0\n",
      "dtype: float64\n"
     ]
    }
   ],
   "source": [
    "edges_followers.fillna(edges_followers.median(), inplace=True)\n",
    "print(edges_followers.isnull().sum()/len(edges_followers)*100)"
   ]
  },
  {
   "cell_type": "code",
   "execution_count": 51,
   "metadata": {},
   "outputs": [],
   "source": [
    "edges_followers.to_csv(\"followers_df.csv\")"
   ]
  },
  {
   "cell_type": "markdown",
   "metadata": {},
   "source": [
    "# networkX "
   ]
  },
  {
   "cell_type": "code",
   "execution_count": 112,
   "metadata": {},
   "outputs": [],
   "source": [
    "G = nx.convert_matrix.from_pandas_edgelist(edges, 'username','to')"
   ]
  },
  {
   "cell_type": "code",
   "execution_count": null,
   "metadata": {},
   "outputs": [],
   "source": [
    "betweenness = nx.betweenness_centrality(G)\n",
    "degree = nx.degree_centrality(G)\n",
    "closeness = nx.closeness_centrality(G)"
   ]
  },
  {
   "cell_type": "code",
   "execution_count": 5,
   "metadata": {},
   "outputs": [],
   "source": [
    "# {k: v for k, v in sorted(closeness.items(), key=lambda item: item[1], reverse=True)}"
   ]
  },
  {
   "cell_type": "code",
   "execution_count": 6,
   "metadata": {},
   "outputs": [
    {
     "name": "stderr",
     "output_type": "stream",
     "text": [
      "C:\\Users\\chris\\Anaconda3\\lib\\site-packages\\networkx\\drawing\\nx_pylab.py:579: MatplotlibDeprecationWarning: \n",
      "The iterable function was deprecated in Matplotlib 3.1 and will be removed in 3.3. Use np.iterable instead.\n",
      "  if not cb.iterable(width):\n"
     ]
    },
    {
     "data": {
      "text/plain": [
       "<Figure size 18000x9000 with 1 Axes>"
      ]
     },
     "metadata": {},
     "output_type": "display_data"
    }
   ],
   "source": [
    "import matplotlib.pyplot as plt\n",
    "\n",
    "G_subset = nx.convert_matrix.from_pandas_edgelist(edges, 'username','to')\n",
    "plt.figure(figsize=(180,90))\n",
    "nx.draw(G, with_labels=True, width=2.0, alpha = .5)\n",
    "\n",
    "plt.show()"
   ]
  },
  {
   "cell_type": "markdown",
   "metadata": {},
   "source": [
    "# Add weights and compare"
   ]
  },
  {
   "cell_type": "code",
   "execution_count": null,
   "metadata": {},
   "outputs": [],
   "source": []
  },
  {
   "cell_type": "code",
   "execution_count": null,
   "metadata": {},
   "outputs": [],
   "source": []
  },
  {
   "cell_type": "code",
   "execution_count": null,
   "metadata": {},
   "outputs": [],
   "source": []
  }
 ],
 "metadata": {
  "kernelspec": {
   "display_name": "Python 3",
   "language": "python",
   "name": "python3"
  },
  "language_info": {
   "codemirror_mode": {
    "name": "ipython",
    "version": 3
   },
   "file_extension": ".py",
   "mimetype": "text/x-python",
   "name": "python",
   "nbconvert_exporter": "python",
   "pygments_lexer": "ipython3",
   "version": "3.7.4"
  }
 },
 "nbformat": 4,
 "nbformat_minor": 4
}
