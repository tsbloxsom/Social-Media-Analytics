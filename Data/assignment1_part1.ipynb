{
 "cells": [
  {
   "cell_type": "code",
   "execution_count": 2,
   "metadata": {},
   "outputs": [],
   "source": [
    "import numpy as np\n",
    "import pandas as pd\n",
    "import copy"
   ]
  },
  {
   "cell_type": "code",
   "execution_count": 3,
   "metadata": {},
   "outputs": [
    {
     "ename": "FileNotFoundError",
     "evalue": "[Errno 2] File b'train.csv' does not exist: b'train.csv'",
     "output_type": "error",
     "traceback": [
      "\u001b[1;31m---------------------------------------------------------------------------\u001b[0m",
      "\u001b[1;31mFileNotFoundError\u001b[0m                         Traceback (most recent call last)",
      "\u001b[1;32m<ipython-input-3-559139d1bdef>\u001b[0m in \u001b[0;36m<module>\u001b[1;34m\u001b[0m\n\u001b[1;32m----> 1\u001b[1;33m \u001b[0mtrain_raw\u001b[0m \u001b[1;33m=\u001b[0m \u001b[0mpd\u001b[0m\u001b[1;33m.\u001b[0m\u001b[0mread_csv\u001b[0m\u001b[1;33m(\u001b[0m\u001b[1;34m'train.csv'\u001b[0m\u001b[1;33m)\u001b[0m\u001b[1;33m\u001b[0m\u001b[1;33m\u001b[0m\u001b[0m\n\u001b[0m",
      "\u001b[1;32m~\\Anaconda3\\lib\\site-packages\\pandas\\io\\parsers.py\u001b[0m in \u001b[0;36mparser_f\u001b[1;34m(filepath_or_buffer, sep, delimiter, header, names, index_col, usecols, squeeze, prefix, mangle_dupe_cols, dtype, engine, converters, true_values, false_values, skipinitialspace, skiprows, skipfooter, nrows, na_values, keep_default_na, na_filter, verbose, skip_blank_lines, parse_dates, infer_datetime_format, keep_date_col, date_parser, dayfirst, cache_dates, iterator, chunksize, compression, thousands, decimal, lineterminator, quotechar, quoting, doublequote, escapechar, comment, encoding, dialect, error_bad_lines, warn_bad_lines, delim_whitespace, low_memory, memory_map, float_precision)\u001b[0m\n\u001b[0;32m    683\u001b[0m         )\n\u001b[0;32m    684\u001b[0m \u001b[1;33m\u001b[0m\u001b[0m\n\u001b[1;32m--> 685\u001b[1;33m         \u001b[1;32mreturn\u001b[0m \u001b[0m_read\u001b[0m\u001b[1;33m(\u001b[0m\u001b[0mfilepath_or_buffer\u001b[0m\u001b[1;33m,\u001b[0m \u001b[0mkwds\u001b[0m\u001b[1;33m)\u001b[0m\u001b[1;33m\u001b[0m\u001b[1;33m\u001b[0m\u001b[0m\n\u001b[0m\u001b[0;32m    686\u001b[0m \u001b[1;33m\u001b[0m\u001b[0m\n\u001b[0;32m    687\u001b[0m     \u001b[0mparser_f\u001b[0m\u001b[1;33m.\u001b[0m\u001b[0m__name__\u001b[0m \u001b[1;33m=\u001b[0m \u001b[0mname\u001b[0m\u001b[1;33m\u001b[0m\u001b[1;33m\u001b[0m\u001b[0m\n",
      "\u001b[1;32m~\\Anaconda3\\lib\\site-packages\\pandas\\io\\parsers.py\u001b[0m in \u001b[0;36m_read\u001b[1;34m(filepath_or_buffer, kwds)\u001b[0m\n\u001b[0;32m    455\u001b[0m \u001b[1;33m\u001b[0m\u001b[0m\n\u001b[0;32m    456\u001b[0m     \u001b[1;31m# Create the parser.\u001b[0m\u001b[1;33m\u001b[0m\u001b[1;33m\u001b[0m\u001b[1;33m\u001b[0m\u001b[0m\n\u001b[1;32m--> 457\u001b[1;33m     \u001b[0mparser\u001b[0m \u001b[1;33m=\u001b[0m \u001b[0mTextFileReader\u001b[0m\u001b[1;33m(\u001b[0m\u001b[0mfp_or_buf\u001b[0m\u001b[1;33m,\u001b[0m \u001b[1;33m**\u001b[0m\u001b[0mkwds\u001b[0m\u001b[1;33m)\u001b[0m\u001b[1;33m\u001b[0m\u001b[1;33m\u001b[0m\u001b[0m\n\u001b[0m\u001b[0;32m    458\u001b[0m \u001b[1;33m\u001b[0m\u001b[0m\n\u001b[0;32m    459\u001b[0m     \u001b[1;32mif\u001b[0m \u001b[0mchunksize\u001b[0m \u001b[1;32mor\u001b[0m \u001b[0miterator\u001b[0m\u001b[1;33m:\u001b[0m\u001b[1;33m\u001b[0m\u001b[1;33m\u001b[0m\u001b[0m\n",
      "\u001b[1;32m~\\Anaconda3\\lib\\site-packages\\pandas\\io\\parsers.py\u001b[0m in \u001b[0;36m__init__\u001b[1;34m(self, f, engine, **kwds)\u001b[0m\n\u001b[0;32m    893\u001b[0m             \u001b[0mself\u001b[0m\u001b[1;33m.\u001b[0m\u001b[0moptions\u001b[0m\u001b[1;33m[\u001b[0m\u001b[1;34m\"has_index_names\"\u001b[0m\u001b[1;33m]\u001b[0m \u001b[1;33m=\u001b[0m \u001b[0mkwds\u001b[0m\u001b[1;33m[\u001b[0m\u001b[1;34m\"has_index_names\"\u001b[0m\u001b[1;33m]\u001b[0m\u001b[1;33m\u001b[0m\u001b[1;33m\u001b[0m\u001b[0m\n\u001b[0;32m    894\u001b[0m \u001b[1;33m\u001b[0m\u001b[0m\n\u001b[1;32m--> 895\u001b[1;33m         \u001b[0mself\u001b[0m\u001b[1;33m.\u001b[0m\u001b[0m_make_engine\u001b[0m\u001b[1;33m(\u001b[0m\u001b[0mself\u001b[0m\u001b[1;33m.\u001b[0m\u001b[0mengine\u001b[0m\u001b[1;33m)\u001b[0m\u001b[1;33m\u001b[0m\u001b[1;33m\u001b[0m\u001b[0m\n\u001b[0m\u001b[0;32m    896\u001b[0m \u001b[1;33m\u001b[0m\u001b[0m\n\u001b[0;32m    897\u001b[0m     \u001b[1;32mdef\u001b[0m \u001b[0mclose\u001b[0m\u001b[1;33m(\u001b[0m\u001b[0mself\u001b[0m\u001b[1;33m)\u001b[0m\u001b[1;33m:\u001b[0m\u001b[1;33m\u001b[0m\u001b[1;33m\u001b[0m\u001b[0m\n",
      "\u001b[1;32m~\\Anaconda3\\lib\\site-packages\\pandas\\io\\parsers.py\u001b[0m in \u001b[0;36m_make_engine\u001b[1;34m(self, engine)\u001b[0m\n\u001b[0;32m   1133\u001b[0m     \u001b[1;32mdef\u001b[0m \u001b[0m_make_engine\u001b[0m\u001b[1;33m(\u001b[0m\u001b[0mself\u001b[0m\u001b[1;33m,\u001b[0m \u001b[0mengine\u001b[0m\u001b[1;33m=\u001b[0m\u001b[1;34m\"c\"\u001b[0m\u001b[1;33m)\u001b[0m\u001b[1;33m:\u001b[0m\u001b[1;33m\u001b[0m\u001b[1;33m\u001b[0m\u001b[0m\n\u001b[0;32m   1134\u001b[0m         \u001b[1;32mif\u001b[0m \u001b[0mengine\u001b[0m \u001b[1;33m==\u001b[0m \u001b[1;34m\"c\"\u001b[0m\u001b[1;33m:\u001b[0m\u001b[1;33m\u001b[0m\u001b[1;33m\u001b[0m\u001b[0m\n\u001b[1;32m-> 1135\u001b[1;33m             \u001b[0mself\u001b[0m\u001b[1;33m.\u001b[0m\u001b[0m_engine\u001b[0m \u001b[1;33m=\u001b[0m \u001b[0mCParserWrapper\u001b[0m\u001b[1;33m(\u001b[0m\u001b[0mself\u001b[0m\u001b[1;33m.\u001b[0m\u001b[0mf\u001b[0m\u001b[1;33m,\u001b[0m \u001b[1;33m**\u001b[0m\u001b[0mself\u001b[0m\u001b[1;33m.\u001b[0m\u001b[0moptions\u001b[0m\u001b[1;33m)\u001b[0m\u001b[1;33m\u001b[0m\u001b[1;33m\u001b[0m\u001b[0m\n\u001b[0m\u001b[0;32m   1136\u001b[0m         \u001b[1;32melse\u001b[0m\u001b[1;33m:\u001b[0m\u001b[1;33m\u001b[0m\u001b[1;33m\u001b[0m\u001b[0m\n\u001b[0;32m   1137\u001b[0m             \u001b[1;32mif\u001b[0m \u001b[0mengine\u001b[0m \u001b[1;33m==\u001b[0m \u001b[1;34m\"python\"\u001b[0m\u001b[1;33m:\u001b[0m\u001b[1;33m\u001b[0m\u001b[1;33m\u001b[0m\u001b[0m\n",
      "\u001b[1;32m~\\Anaconda3\\lib\\site-packages\\pandas\\io\\parsers.py\u001b[0m in \u001b[0;36m__init__\u001b[1;34m(self, src, **kwds)\u001b[0m\n\u001b[0;32m   1915\u001b[0m         \u001b[0mkwds\u001b[0m\u001b[1;33m[\u001b[0m\u001b[1;34m\"usecols\"\u001b[0m\u001b[1;33m]\u001b[0m \u001b[1;33m=\u001b[0m \u001b[0mself\u001b[0m\u001b[1;33m.\u001b[0m\u001b[0musecols\u001b[0m\u001b[1;33m\u001b[0m\u001b[1;33m\u001b[0m\u001b[0m\n\u001b[0;32m   1916\u001b[0m \u001b[1;33m\u001b[0m\u001b[0m\n\u001b[1;32m-> 1917\u001b[1;33m         \u001b[0mself\u001b[0m\u001b[1;33m.\u001b[0m\u001b[0m_reader\u001b[0m \u001b[1;33m=\u001b[0m \u001b[0mparsers\u001b[0m\u001b[1;33m.\u001b[0m\u001b[0mTextReader\u001b[0m\u001b[1;33m(\u001b[0m\u001b[0msrc\u001b[0m\u001b[1;33m,\u001b[0m \u001b[1;33m**\u001b[0m\u001b[0mkwds\u001b[0m\u001b[1;33m)\u001b[0m\u001b[1;33m\u001b[0m\u001b[1;33m\u001b[0m\u001b[0m\n\u001b[0m\u001b[0;32m   1918\u001b[0m         \u001b[0mself\u001b[0m\u001b[1;33m.\u001b[0m\u001b[0munnamed_cols\u001b[0m \u001b[1;33m=\u001b[0m \u001b[0mself\u001b[0m\u001b[1;33m.\u001b[0m\u001b[0m_reader\u001b[0m\u001b[1;33m.\u001b[0m\u001b[0munnamed_cols\u001b[0m\u001b[1;33m\u001b[0m\u001b[1;33m\u001b[0m\u001b[0m\n\u001b[0;32m   1919\u001b[0m \u001b[1;33m\u001b[0m\u001b[0m\n",
      "\u001b[1;32mpandas\\_libs\\parsers.pyx\u001b[0m in \u001b[0;36mpandas._libs.parsers.TextReader.__cinit__\u001b[1;34m()\u001b[0m\n",
      "\u001b[1;32mpandas\\_libs\\parsers.pyx\u001b[0m in \u001b[0;36mpandas._libs.parsers.TextReader._setup_parser_source\u001b[1;34m()\u001b[0m\n",
      "\u001b[1;31mFileNotFoundError\u001b[0m: [Errno 2] File b'train.csv' does not exist: b'train.csv'"
     ]
    }
   ],
   "source": [
    "train_raw = pd.read_csv('train.csv')"
   ]
  },
  {
   "cell_type": "code",
   "execution_count": null,
   "metadata": {},
   "outputs": [],
   "source": [
    "train_raw.columns"
   ]
  },
  {
   "cell_type": "code",
   "execution_count": 120,
   "metadata": {},
   "outputs": [
    {
     "data": {
      "text/plain": [
       "0.5094545454545455"
      ]
     },
     "execution_count": 120,
     "metadata": {},
     "output_type": "execute_result"
    }
   ],
   "source": [
    "train_raw['Choice'].mean()"
   ]
  },
  {
   "cell_type": "code",
   "execution_count": null,
   "metadata": {},
   "outputs": [],
   "source": [
    "train_raw"
   ]
  },
  {
   "cell_type": "code",
   "execution_count": 121,
   "metadata": {},
   "outputs": [],
   "source": [
    "train_df = copy.deepcopy(train_raw[['Choice']])"
   ]
  },
  {
   "cell_type": "code",
   "execution_count": 122,
   "metadata": {},
   "outputs": [],
   "source": [
    "train_df['follower_count'] = train_raw['A_follower_count'] - train_raw['B_follower_count']\n",
    "train_df['following_count'] = train_raw['A_following_count'] - train_raw['B_following_count']\n",
    "train_df['listed_count'] = train_raw['A_listed_count'] - train_raw['B_listed_count']\n",
    "train_df['mentions_received'] = train_raw['A_mentions_received'] - train_raw['B_mentions_received']\n",
    "train_df['retweets_received'] = train_raw['A_retweets_received'] - train_raw['B_retweets_received']\n",
    "train_df['mentions_sent'] = train_raw['A_mentions_sent'] - train_raw['B_mentions_sent']\n",
    "train_df['retweets_sent'] = train_raw['A_retweets_sent'] - train_raw['B_retweets_sent']\n",
    "train_df['posts'] = train_raw['A_posts'] - train_raw['B_posts']\n",
    "train_df['network_feature_1'] = train_raw['A_network_feature_1'] - train_raw['B_network_feature_1']\n",
    "train_df['network_feature_2'] = train_raw['A_network_feature_2'] - train_raw['B_network_feature_2']\n",
    "train_df['network_feature_3'] = train_raw['A_network_feature_3'] - train_raw['B_network_feature_3']"
   ]
  },
  {
   "cell_type": "code",
   "execution_count": 123,
   "metadata": {},
   "outputs": [
    {
     "data": {
      "text/html": [
       "<div>\n",
       "<style scoped>\n",
       "    .dataframe tbody tr th:only-of-type {\n",
       "        vertical-align: middle;\n",
       "    }\n",
       "\n",
       "    .dataframe tbody tr th {\n",
       "        vertical-align: top;\n",
       "    }\n",
       "\n",
       "    .dataframe thead th {\n",
       "        text-align: right;\n",
       "    }\n",
       "</style>\n",
       "<table border=\"1\" class=\"dataframe\">\n",
       "  <thead>\n",
       "    <tr style=\"text-align: right;\">\n",
       "      <th></th>\n",
       "      <th>Choice</th>\n",
       "      <th>follower_count</th>\n",
       "      <th>following_count</th>\n",
       "      <th>listed_count</th>\n",
       "      <th>mentions_received</th>\n",
       "      <th>retweets_received</th>\n",
       "      <th>mentions_sent</th>\n",
       "      <th>retweets_sent</th>\n",
       "      <th>posts</th>\n",
       "      <th>network_feature_1</th>\n",
       "      <th>network_feature_2</th>\n",
       "      <th>network_feature_3</th>\n",
       "    </tr>\n",
       "  </thead>\n",
       "  <tbody>\n",
       "    <tr>\n",
       "      <td>0</td>\n",
       "      <td>0</td>\n",
       "      <td>-34235</td>\n",
       "      <td>-29506</td>\n",
       "      <td>-1686</td>\n",
       "      <td>-14.846518</td>\n",
       "      <td>-3.883525</td>\n",
       "      <td>-8.103828</td>\n",
       "      <td>-0.231920</td>\n",
       "      <td>-6.626665</td>\n",
       "      <td>-64</td>\n",
       "      <td>90.969697</td>\n",
       "      <td>9438.106061</td>\n",
       "    </tr>\n",
       "    <tr>\n",
       "      <td>1</td>\n",
       "      <td>0</td>\n",
       "      <td>-17671</td>\n",
       "      <td>331</td>\n",
       "      <td>-1382</td>\n",
       "      <td>49.961485</td>\n",
       "      <td>16.854685</td>\n",
       "      <td>2.481652</td>\n",
       "      <td>0.546816</td>\n",
       "      <td>4.106299</td>\n",
       "      <td>206</td>\n",
       "      <td>-113.587704</td>\n",
       "      <td>-1601.149290</td>\n",
       "    </tr>\n",
       "    <tr>\n",
       "      <td>2</td>\n",
       "      <td>0</td>\n",
       "      <td>3688</td>\n",
       "      <td>733</td>\n",
       "      <td>-105</td>\n",
       "      <td>24.768949</td>\n",
       "      <td>9.201969</td>\n",
       "      <td>4.758317</td>\n",
       "      <td>0.490702</td>\n",
       "      <td>2.986516</td>\n",
       "      <td>92</td>\n",
       "      <td>58.594502</td>\n",
       "      <td>5722.563574</td>\n",
       "    </tr>\n",
       "    <tr>\n",
       "      <td>3</td>\n",
       "      <td>0</td>\n",
       "      <td>-19542</td>\n",
       "      <td>-17630</td>\n",
       "      <td>-276</td>\n",
       "      <td>-565.184032</td>\n",
       "      <td>-390.016375</td>\n",
       "      <td>-26.220532</td>\n",
       "      <td>-7.067053</td>\n",
       "      <td>-29.271279</td>\n",
       "      <td>-1756</td>\n",
       "      <td>-21.469296</td>\n",
       "      <td>-1299.678967</td>\n",
       "    </tr>\n",
       "    <tr>\n",
       "      <td>4</td>\n",
       "      <td>1</td>\n",
       "      <td>38035</td>\n",
       "      <td>-849</td>\n",
       "      <td>2460</td>\n",
       "      <td>127.252413</td>\n",
       "      <td>33.417223</td>\n",
       "      <td>21.117111</td>\n",
       "      <td>2.213765</td>\n",
       "      <td>19.298035</td>\n",
       "      <td>466</td>\n",
       "      <td>78.904293</td>\n",
       "      <td>840.220036</td>\n",
       "    </tr>\n",
       "    <tr>\n",
       "      <td>...</td>\n",
       "      <td>...</td>\n",
       "      <td>...</td>\n",
       "      <td>...</td>\n",
       "      <td>...</td>\n",
       "      <td>...</td>\n",
       "      <td>...</td>\n",
       "      <td>...</td>\n",
       "      <td>...</td>\n",
       "      <td>...</td>\n",
       "      <td>...</td>\n",
       "      <td>...</td>\n",
       "      <td>...</td>\n",
       "    </tr>\n",
       "    <tr>\n",
       "      <td>5495</td>\n",
       "      <td>0</td>\n",
       "      <td>-762629</td>\n",
       "      <td>-1185</td>\n",
       "      <td>-13787</td>\n",
       "      <td>-5351.839938</td>\n",
       "      <td>-4730.783795</td>\n",
       "      <td>54.126383</td>\n",
       "      <td>3.006633</td>\n",
       "      <td>86.017644</td>\n",
       "      <td>-20651</td>\n",
       "      <td>28.807054</td>\n",
       "      <td>2171.964468</td>\n",
       "    </tr>\n",
       "    <tr>\n",
       "      <td>5496</td>\n",
       "      <td>1</td>\n",
       "      <td>-682</td>\n",
       "      <td>-236</td>\n",
       "      <td>-3</td>\n",
       "      <td>1.139100</td>\n",
       "      <td>-0.205570</td>\n",
       "      <td>0.000000</td>\n",
       "      <td>0.000000</td>\n",
       "      <td>-1.018804</td>\n",
       "      <td>4</td>\n",
       "      <td>47.600000</td>\n",
       "      <td>-3554.800000</td>\n",
       "    </tr>\n",
       "    <tr>\n",
       "      <td>5497</td>\n",
       "      <td>0</td>\n",
       "      <td>7831</td>\n",
       "      <td>-1038</td>\n",
       "      <td>566</td>\n",
       "      <td>34.391680</td>\n",
       "      <td>18.740284</td>\n",
       "      <td>0.181576</td>\n",
       "      <td>-0.777790</td>\n",
       "      <td>1.940731</td>\n",
       "      <td>117</td>\n",
       "      <td>103.995098</td>\n",
       "      <td>1292.989740</td>\n",
       "    </tr>\n",
       "    <tr>\n",
       "      <td>5498</td>\n",
       "      <td>0</td>\n",
       "      <td>-57424</td>\n",
       "      <td>-37392</td>\n",
       "      <td>-21681</td>\n",
       "      <td>455.382230</td>\n",
       "      <td>415.318328</td>\n",
       "      <td>-1.388242</td>\n",
       "      <td>-1.244570</td>\n",
       "      <td>3.138261</td>\n",
       "      <td>1907</td>\n",
       "      <td>-230.511754</td>\n",
       "      <td>-6661.772353</td>\n",
       "    </tr>\n",
       "    <tr>\n",
       "      <td>5499</td>\n",
       "      <td>0</td>\n",
       "      <td>-503376</td>\n",
       "      <td>-2188</td>\n",
       "      <td>-12766</td>\n",
       "      <td>-307.856462</td>\n",
       "      <td>-142.014639</td>\n",
       "      <td>0.283840</td>\n",
       "      <td>-0.179272</td>\n",
       "      <td>-1.853586</td>\n",
       "      <td>-1272</td>\n",
       "      <td>162.092181</td>\n",
       "      <td>12473.010425</td>\n",
       "    </tr>\n",
       "  </tbody>\n",
       "</table>\n",
       "<p>5500 rows × 12 columns</p>\n",
       "</div>"
      ],
      "text/plain": [
       "      Choice  follower_count  following_count  listed_count  \\\n",
       "0          0          -34235           -29506         -1686   \n",
       "1          0          -17671              331         -1382   \n",
       "2          0            3688              733          -105   \n",
       "3          0          -19542           -17630          -276   \n",
       "4          1           38035             -849          2460   \n",
       "...      ...             ...              ...           ...   \n",
       "5495       0         -762629            -1185        -13787   \n",
       "5496       1            -682             -236            -3   \n",
       "5497       0            7831            -1038           566   \n",
       "5498       0          -57424           -37392        -21681   \n",
       "5499       0         -503376            -2188        -12766   \n",
       "\n",
       "      mentions_received  retweets_received  mentions_sent  retweets_sent  \\\n",
       "0            -14.846518          -3.883525      -8.103828      -0.231920   \n",
       "1             49.961485          16.854685       2.481652       0.546816   \n",
       "2             24.768949           9.201969       4.758317       0.490702   \n",
       "3           -565.184032        -390.016375     -26.220532      -7.067053   \n",
       "4            127.252413          33.417223      21.117111       2.213765   \n",
       "...                 ...                ...            ...            ...   \n",
       "5495       -5351.839938       -4730.783795      54.126383       3.006633   \n",
       "5496           1.139100          -0.205570       0.000000       0.000000   \n",
       "5497          34.391680          18.740284       0.181576      -0.777790   \n",
       "5498         455.382230         415.318328      -1.388242      -1.244570   \n",
       "5499        -307.856462        -142.014639       0.283840      -0.179272   \n",
       "\n",
       "          posts  network_feature_1  network_feature_2  network_feature_3  \n",
       "0     -6.626665                -64          90.969697        9438.106061  \n",
       "1      4.106299                206        -113.587704       -1601.149290  \n",
       "2      2.986516                 92          58.594502        5722.563574  \n",
       "3    -29.271279              -1756         -21.469296       -1299.678967  \n",
       "4     19.298035                466          78.904293         840.220036  \n",
       "...         ...                ...                ...                ...  \n",
       "5495  86.017644             -20651          28.807054        2171.964468  \n",
       "5496  -1.018804                  4          47.600000       -3554.800000  \n",
       "5497   1.940731                117         103.995098        1292.989740  \n",
       "5498   3.138261               1907        -230.511754       -6661.772353  \n",
       "5499  -1.853586              -1272         162.092181       12473.010425  \n",
       "\n",
       "[5500 rows x 12 columns]"
      ]
     },
     "execution_count": 123,
     "metadata": {},
     "output_type": "execute_result"
    }
   ],
   "source": [
    "train_df"
   ]
  },
  {
   "cell_type": "code",
   "execution_count": 124,
   "metadata": {},
   "outputs": [
    {
     "data": {
      "text/plain": [
       "network_feature_3  network_feature_3    1.000000\n",
       "network_feature_2  network_feature_2    1.000000\n",
       "follower_count     follower_count       1.000000\n",
       "following_count    following_count      1.000000\n",
       "listed_count       listed_count         1.000000\n",
       "mentions_received  mentions_received    1.000000\n",
       "retweets_received  retweets_received    1.000000\n",
       "mentions_sent      mentions_sent        1.000000\n",
       "retweets_sent      retweets_sent        1.000000\n",
       "posts              posts                1.000000\n",
       "network_feature_1  network_feature_1    1.000000\n",
       "Choice             Choice               1.000000\n",
       "retweets_received  mentions_received    0.988363\n",
       "mentions_received  retweets_received    0.988363\n",
       "retweets_received  network_feature_1    0.920574\n",
       "network_feature_1  retweets_received    0.920574\n",
       "                   mentions_received    0.914479\n",
       "mentions_received  network_feature_1    0.914479\n",
       "listed_count       follower_count       0.781208\n",
       "follower_count     listed_count         0.781208\n",
       "dtype: float64"
      ]
     },
     "execution_count": 124,
     "metadata": {},
     "output_type": "execute_result"
    }
   ],
   "source": [
    "train_df.corr().unstack().sort_values(ascending=False).head(20)"
   ]
  },
  {
   "cell_type": "code",
   "execution_count": 125,
   "metadata": {},
   "outputs": [],
   "source": [
    "train_df = train_df.drop(columns=['mentions_received', 'network_feature_1'])"
   ]
  },
  {
   "cell_type": "code",
   "execution_count": 245,
   "metadata": {},
   "outputs": [],
   "source": [
    "from sklearn.linear_model import LogisticRegression\n",
    "from sklearn.model_selection import train_test_split\n",
    "\n",
    "y = train_df['Choice']\n",
    "X = train_df.drop(columns=['Choice'])\n",
    "\n",
    "X_train, X_test, y_train, y_test = train_test_split(X, y, test_size = 0.25, random_state = 110)"
   ]
  },
  {
   "cell_type": "code",
   "execution_count": 246,
   "metadata": {},
   "outputs": [],
   "source": [
    "from sklearn.preprocessing import MinMaxScaler\n",
    "scaler = MinMaxScaler().fit(X_train)\n",
    "\n",
    "X_train_scaled = scaler.transform(X_train)\n",
    "X_test_scaled = scaler.transform(X_test)"
   ]
  },
  {
   "cell_type": "code",
   "execution_count": 247,
   "metadata": {},
   "outputs": [
    {
     "name": "stdout",
     "output_type": "stream",
     "text": [
      "Optimization terminated successfully.\n",
      "         Current function value: 0.610310\n",
      "         Iterations 7\n",
      "                           Logit Regression Results                           \n",
      "==============================================================================\n",
      "Dep. Variable:                 Choice   No. Observations:                 4125\n",
      "Model:                          Logit   Df Residuals:                     4116\n",
      "Method:                           MLE   Df Model:                            8\n",
      "Date:                Thu, 06 Feb 2020   Pseudo R-squ.:                  0.1192\n",
      "Time:                        18:12:11   Log-Likelihood:                -2517.5\n",
      "converged:                       True   LL-Null:                       -2858.3\n",
      "Covariance Type:            nonrobust   LLR p-value:                6.909e-142\n",
      "==============================================================================\n",
      "                 coef    std err          z      P>|z|      [0.025      0.975]\n",
      "------------------------------------------------------------------------------\n",
      "x1            11.0879      2.221      4.992      0.000       6.734      15.441\n",
      "x2            -0.6939      1.015     -0.684      0.494      -2.683       1.295\n",
      "x3            58.1284      4.824     12.050      0.000      48.674      67.583\n",
      "x4           -75.3840      4.148    -18.173      0.000     -83.514     -67.254\n",
      "x5             1.7545      0.564      3.110      0.002       0.649       2.860\n",
      "x6             1.9134      0.580      3.302      0.001       0.778       3.049\n",
      "x7             1.2067      0.631      1.911      0.056      -0.031       2.444\n",
      "x8             0.5439      0.800      0.680      0.497      -1.025       2.112\n",
      "x9             2.8584      0.741      3.857      0.000       1.406       4.311\n",
      "==============================================================================\n"
     ]
    }
   ],
   "source": [
    "import statsmodels.api as sm\n",
    "logit = sm.Logit(y_train, X_train_scaled)\n",
    "result = logit.fit()\n",
    "print(result.summary())"
   ]
  },
  {
   "cell_type": "code",
   "execution_count": 279,
   "metadata": {},
   "outputs": [
    {
     "name": "stdout",
     "output_type": "stream",
     "text": [
      "Training set confustion matrix:\n",
      " [[1319  699]\n",
      " [ 488 1619]]\n",
      "\n",
      "Test set confustion matrix:\n",
      " [[451 229]\n",
      " [149 546]]\n",
      "\n",
      "Training set accuracy: 0.7122424242424242\n",
      "Test set accuracy: 0.7250909090909091\n"
     ]
    }
   ],
   "source": [
    "def make_predictions(s):\n",
    "    if s >= 0.5:\n",
    "        return 1\n",
    "    return 0\n",
    "\n",
    "train_predictions = pd.Series(result.predict(X_train_scaled))\n",
    "train_predictions = train_predictions.map(make_predictions)\n",
    "train = confusion_matrix(y_train, train_predictions)\n",
    "\n",
    "test_predictions = pd.Series(result.predict(X_test_scaled))\n",
    "test_predictions = test_predictions.map(make_predictions)\n",
    "test = confusion_matrix(y_test, test_predictions)\n",
    "\n",
    "print(\"Training set confustion matrix:\\n\", train)\n",
    "print(\"\\nTest set confustion matrix:\\n\", test)\n",
    "\n",
    "print(\"\\nTraining set accuracy:\", (train[0][0] + train[1][1])/(sum(train[0])+ sum(train[1])))\n",
    "print(\"Test set accuracy:\", (test[0][0] + test[1][1])/(sum(test[0])+ sum(test[1])))"
   ]
  },
  {
   "cell_type": "code",
   "execution_count": 272,
   "metadata": {},
   "outputs": [
    {
     "data": {
      "text/html": [
       "<div>\n",
       "<style scoped>\n",
       "    .dataframe tbody tr th:only-of-type {\n",
       "        vertical-align: middle;\n",
       "    }\n",
       "\n",
       "    .dataframe tbody tr th {\n",
       "        vertical-align: top;\n",
       "    }\n",
       "\n",
       "    .dataframe thead th {\n",
       "        text-align: right;\n",
       "    }\n",
       "</style>\n",
       "<table border=\"1\" class=\"dataframe\">\n",
       "  <thead>\n",
       "    <tr style=\"text-align: right;\">\n",
       "      <th></th>\n",
       "      <th>coefficients</th>\n",
       "      <th>p-values</th>\n",
       "      <th>magnitude</th>\n",
       "    </tr>\n",
       "  </thead>\n",
       "  <tbody>\n",
       "    <tr>\n",
       "      <td>retweets_received</td>\n",
       "      <td>-75.384021</td>\n",
       "      <td>8.481768e-74</td>\n",
       "      <td>75.384021</td>\n",
       "    </tr>\n",
       "    <tr>\n",
       "      <td>listed_count</td>\n",
       "      <td>58.128448</td>\n",
       "      <td>1.944130e-33</td>\n",
       "      <td>58.128448</td>\n",
       "    </tr>\n",
       "    <tr>\n",
       "      <td>follower_count</td>\n",
       "      <td>11.087859</td>\n",
       "      <td>5.983042e-07</td>\n",
       "      <td>11.087859</td>\n",
       "    </tr>\n",
       "    <tr>\n",
       "      <td>network_feature_3</td>\n",
       "      <td>2.858370</td>\n",
       "      <td>1.147292e-04</td>\n",
       "      <td>2.858370</td>\n",
       "    </tr>\n",
       "    <tr>\n",
       "      <td>retweets_sent</td>\n",
       "      <td>1.913395</td>\n",
       "      <td>9.614698e-04</td>\n",
       "      <td>1.913395</td>\n",
       "    </tr>\n",
       "    <tr>\n",
       "      <td>mentions_sent</td>\n",
       "      <td>1.754485</td>\n",
       "      <td>1.871340e-03</td>\n",
       "      <td>1.754485</td>\n",
       "    </tr>\n",
       "    <tr>\n",
       "      <td>posts</td>\n",
       "      <td>1.206705</td>\n",
       "      <td>5.602249e-02</td>\n",
       "      <td>1.206705</td>\n",
       "    </tr>\n",
       "    <tr>\n",
       "      <td>following_count</td>\n",
       "      <td>-0.693924</td>\n",
       "      <td>4.940719e-01</td>\n",
       "      <td>0.693924</td>\n",
       "    </tr>\n",
       "    <tr>\n",
       "      <td>network_feature_2</td>\n",
       "      <td>0.543859</td>\n",
       "      <td>4.967619e-01</td>\n",
       "      <td>0.543859</td>\n",
       "    </tr>\n",
       "  </tbody>\n",
       "</table>\n",
       "</div>"
      ],
      "text/plain": [
       "                   coefficients      p-values  magnitude\n",
       "retweets_received    -75.384021  8.481768e-74  75.384021\n",
       "listed_count          58.128448  1.944130e-33  58.128448\n",
       "follower_count        11.087859  5.983042e-07  11.087859\n",
       "network_feature_3      2.858370  1.147292e-04   2.858370\n",
       "retweets_sent          1.913395  9.614698e-04   1.913395\n",
       "mentions_sent          1.754485  1.871340e-03   1.754485\n",
       "posts                  1.206705  5.602249e-02   1.206705\n",
       "following_count       -0.693924  4.940719e-01   0.693924\n",
       "network_feature_2      0.543859  4.967619e-01   0.543859"
      ]
     },
     "execution_count": 272,
     "metadata": {},
     "output_type": "execute_result"
    }
   ],
   "source": [
    "out = pd.DataFrame({'coefficients': result.params.values, 'p-values': result.pvalues.values}, index = X_train.columns)\n",
    "out['magnitude'] = out['coefficients'].abs()\n",
    "out.sort_values(by = ['magnitude'], ascending = False, inplace = True)\n",
    "out"
   ]
  },
  {
   "cell_type": "code",
   "execution_count": 276,
   "metadata": {},
   "outputs": [
    {
     "data": {
      "text/plain": [
       "retweets_received   -22.779148\n",
       "listed_count         17.564949\n",
       "follower_count        3.350471\n",
       "network_feature_3     0.863727\n",
       "Name: coefficients, dtype: float64"
      ]
     },
     "execution_count": 276,
     "metadata": {},
     "output_type": "execute_result"
    }
   ],
   "source": [
    "out['coefficients'].iloc[:4] / abs(out['coefficients'].iloc[:4].sum())"
   ]
  },
  {
   "cell_type": "code",
   "execution_count": null,
   "metadata": {},
   "outputs": [],
   "source": [
    "# END"
   ]
  },
  {
   "cell_type": "code",
   "execution_count": null,
   "metadata": {},
   "outputs": [],
   "source": []
  },
  {
   "cell_type": "code",
   "execution_count": null,
   "metadata": {},
   "outputs": [],
   "source": []
  },
  {
   "cell_type": "code",
   "execution_count": null,
   "metadata": {},
   "outputs": [],
   "source": []
  },
  {
   "cell_type": "code",
   "execution_count": null,
   "metadata": {},
   "outputs": [],
   "source": []
  },
  {
   "cell_type": "code",
   "execution_count": null,
   "metadata": {},
   "outputs": [],
   "source": [
    "# STOP HERE"
   ]
  },
  {
   "cell_type": "code",
   "execution_count": 170,
   "metadata": {},
   "outputs": [],
   "source": [
    "train = confusion_matrix(y_train, train_predictions)"
   ]
  },
  {
   "cell_type": "code",
   "execution_count": 154,
   "metadata": {},
   "outputs": [
    {
     "data": {
      "text/plain": [
       "0.7076363636363636"
      ]
     },
     "execution_count": 154,
     "metadata": {},
     "output_type": "execute_result"
    }
   ],
   "source": [
    "(1335 + 1584)/(1335+691+515+1584)"
   ]
  },
  {
   "cell_type": "code",
   "execution_count": 158,
   "metadata": {},
   "outputs": [],
   "source": [
    "test_predictions = pd.Series(result.predict(X_test_scaled))\n",
    "test_predictions = test_predictions.map(make_predictions)"
   ]
  },
  {
   "cell_type": "code",
   "execution_count": 163,
   "metadata": {},
   "outputs": [],
   "source": [
    "test = confusion_matrix(y_test, test_predictions)"
   ]
  },
  {
   "cell_type": "code",
   "execution_count": 161,
   "metadata": {},
   "outputs": [
    {
     "data": {
      "text/plain": [
       "0.712"
      ]
     },
     "execution_count": 161,
     "metadata": {},
     "output_type": "execute_result"
    }
   ],
   "source": [
    "(450+529)/(450+222+174+529)"
   ]
  },
  {
   "cell_type": "code",
   "execution_count": 171,
   "metadata": {},
   "outputs": [
    {
     "name": "stdout",
     "output_type": "stream",
     "text": [
      "Train set accuracy: 0.7076363636363636\n",
      "Test set accuracy: 0.712\n"
     ]
    }
   ],
   "source": [
    "print(\"Train set accuracy:\", (train[0][0] + train[1][1])/(sum(train[0])+ sum(train[1])))\n",
    "print(\"Test set accuracy:\", (test[0][0] + test[1][1])/(sum(test[0])+ sum(test[1])))"
   ]
  },
  {
   "cell_type": "code",
   "execution_count": null,
   "metadata": {},
   "outputs": [],
   "source": []
  },
  {
   "cell_type": "code",
   "execution_count": null,
   "metadata": {},
   "outputs": [],
   "source": []
  },
  {
   "cell_type": "code",
   "execution_count": null,
   "metadata": {},
   "outputs": [],
   "source": []
  },
  {
   "cell_type": "code",
   "execution_count": null,
   "metadata": {},
   "outputs": [],
   "source": []
  },
  {
   "cell_type": "code",
   "execution_count": null,
   "metadata": {},
   "outputs": [],
   "source": []
  },
  {
   "cell_type": "code",
   "execution_count": null,
   "metadata": {},
   "outputs": [],
   "source": []
  },
  {
   "cell_type": "code",
   "execution_count": 128,
   "metadata": {},
   "outputs": [
    {
     "name": "stdout",
     "output_type": "stream",
     "text": [
      "Train: 0.6863030303030303\n",
      "Test: 0.6843636363636364\n"
     ]
    },
    {
     "name": "stderr",
     "output_type": "stream",
     "text": [
      "/Users/christopherkreke/opt/anaconda3/lib/python3.7/site-packages/sklearn/linear_model/logistic.py:432: FutureWarning: Default solver will be changed to 'lbfgs' in 0.22. Specify a solver to silence this warning.\n",
      "  FutureWarning)\n"
     ]
    }
   ],
   "source": [
    "clf = LogisticRegression().fit(X_train_scaled, y_train)\n",
    "print('Train:', clf.score(X_train_scaled, y_train))\n",
    "print('Test:', clf.score(X_test_scaled, y_test))"
   ]
  },
  {
   "cell_type": "code",
   "execution_count": 129,
   "metadata": {},
   "outputs": [
    {
     "data": {
      "text/plain": [
       "array([[502, 170],\n",
       "       [169, 534]])"
      ]
     },
     "execution_count": 129,
     "metadata": {},
     "output_type": "execute_result"
    }
   ],
   "source": [
    "from sklearn.metrics import confusion_matrix\n",
    "confusion_matrix(y_test, clf.predict(X_test))"
   ]
  },
  {
   "cell_type": "code",
   "execution_count": 142,
   "metadata": {},
   "outputs": [
    {
     "data": {
      "text/html": [
       "<div>\n",
       "<style scoped>\n",
       "    .dataframe tbody tr th:only-of-type {\n",
       "        vertical-align: middle;\n",
       "    }\n",
       "\n",
       "    .dataframe tbody tr th {\n",
       "        vertical-align: top;\n",
       "    }\n",
       "\n",
       "    .dataframe thead th {\n",
       "        text-align: right;\n",
       "    }\n",
       "</style>\n",
       "<table border=\"1\" class=\"dataframe\">\n",
       "  <thead>\n",
       "    <tr style=\"text-align: right;\">\n",
       "      <th></th>\n",
       "      <th>0</th>\n",
       "    </tr>\n",
       "  </thead>\n",
       "  <tbody>\n",
       "    <tr>\n",
       "      <td>follower_count</td>\n",
       "      <td>5.491357</td>\n",
       "    </tr>\n",
       "    <tr>\n",
       "      <td>retweets_sent</td>\n",
       "      <td>3.122818</td>\n",
       "    </tr>\n",
       "    <tr>\n",
       "      <td>listed_count</td>\n",
       "      <td>2.569516</td>\n",
       "    </tr>\n",
       "    <tr>\n",
       "      <td>network_feature_3</td>\n",
       "      <td>1.901778</td>\n",
       "    </tr>\n",
       "    <tr>\n",
       "      <td>mentions_sent</td>\n",
       "      <td>1.701726</td>\n",
       "    </tr>\n",
       "    <tr>\n",
       "      <td>network_feature_2</td>\n",
       "      <td>1.501022</td>\n",
       "    </tr>\n",
       "    <tr>\n",
       "      <td>posts</td>\n",
       "      <td>0.766630</td>\n",
       "    </tr>\n",
       "    <tr>\n",
       "      <td>following_count</td>\n",
       "      <td>0.219880</td>\n",
       "    </tr>\n",
       "    <tr>\n",
       "      <td>retweets_received</td>\n",
       "      <td>-2.770164</td>\n",
       "    </tr>\n",
       "  </tbody>\n",
       "</table>\n",
       "</div>"
      ],
      "text/plain": [
       "                          0\n",
       "follower_count     5.491357\n",
       "retweets_sent      3.122818\n",
       "listed_count       2.569516\n",
       "network_feature_3  1.901778\n",
       "mentions_sent      1.701726\n",
       "network_feature_2  1.501022\n",
       "posts              0.766630\n",
       "following_count    0.219880\n",
       "retweets_received -2.770164"
      ]
     },
     "execution_count": 142,
     "metadata": {},
     "output_type": "execute_result"
    }
   ],
   "source": [
    "pd.DataFrame(clf.coef_[0], index = X_train.columns).sort_values(by=0, ascending = False)"
   ]
  },
  {
   "cell_type": "code",
   "execution_count": 137,
   "metadata": {},
   "outputs": [
    {
     "ename": "NameError",
     "evalue": "name 'summary' is not defined",
     "output_type": "error",
     "traceback": [
      "\u001b[0;31m---------------------------------------------------------------------------\u001b[0m",
      "\u001b[0;31mNameError\u001b[0m                                 Traceback (most recent call last)",
      "\u001b[0;32m<ipython-input-137-3f76f432eb38>\u001b[0m in \u001b[0;36m<module>\u001b[0;34m\u001b[0m\n\u001b[0;32m----> 1\u001b[0;31m \u001b[0msummary\u001b[0m\u001b[0;34m(\u001b[0m\u001b[0mclf\u001b[0m\u001b[0;34m)\u001b[0m\u001b[0;34m\u001b[0m\u001b[0;34m\u001b[0m\u001b[0m\n\u001b[0m",
      "\u001b[0;31mNameError\u001b[0m: name 'summary' is not defined"
     ]
    }
   ],
   "source": [
    "clf."
   ]
  },
  {
   "cell_type": "code",
   "execution_count": 67,
   "metadata": {},
   "outputs": [
    {
     "data": {
      "text/plain": [
       "Text(0.5, 0, 'Relative Feature Importance')"
      ]
     },
     "execution_count": 67,
     "metadata": {},
     "output_type": "execute_result"
    },
    {
     "data": {
      "image/png": "[encoded data removed]",
      "text/plain": [
       "<Figure size 432x288 with 1 Axes>"
      ]
     },
     "metadata": {
      "needs_background": "light"
     },
     "output_type": "display_data"
    }
   ],
   "source": [
    "feature_importance = abs(clf.coef_[0])\n",
    "feature_importance = 100.0 * (feature_importance / feature_importance.max())\n",
    "sorted_idx = np.argsort(feature_importance)\n",
    "pos = np.arange(sorted_idx.shape[0]) + .5\n",
    "featfig = plt.figure()\n",
    "featax = featfig.add_subplot(1, 1, 1)\n",
    "featax.barh(pos, feature_importance[sorted_idx], align='center')\n",
    "featax.set_yticks(pos)\n",
    "featax.set_yticklabels(np.array(X.columns)[sorted_idx], fontsize=8)\n",
    "featax.set_xlabel('Relative Feature Importance')"
   ]
  },
  {
   "cell_type": "code",
   "execution_count": 21,
   "metadata": {},
   "outputs": [
    {
     "data": {
      "text/plain": [
       "<matplotlib.axes._subplots.AxesSubplot at 0x1a19aed850>"
      ]
     },
     "execution_count": 21,
     "metadata": {},
     "output_type": "execute_result"
    },
    {
     "data": {
      "image/png": "[encoded data removed]",
      "text/plain": [
       "<Figure size 720x504 with 2 Axes>"
      ]
     },
     "metadata": {
      "needs_background": "light"
     },
     "output_type": "display_data"
    }
   ],
   "source": [
    "import seaborn as sn\n",
    "import matplotlib.pyplot as plt\n",
    "\n",
    "plt.figure(figsize = (10,7))\n",
    "sn.heatmap(confusion_matrix(y_test, clf.predict(X_test)), annot=True)"
   ]
  },
  {
   "cell_type": "code",
   "execution_count": null,
   "metadata": {},
   "outputs": [],
   "source": []
  }
 ],
 "metadata": {
  "kernelspec": {
   "display_name": "Python 3",
   "language": "python",
   "name": "python3"
  },
  "language_info": {
   "codemirror_mode": {
    "name": "ipython",
    "version": 3
   },
   "file_extension": ".py",
   "mimetype": "text/x-python",
   "name": "python",
   "nbconvert_exporter": "python",
   "pygments_lexer": "ipython3",
   "version": "3.7.4"
  }
 },
 "nbformat": 4,
 "nbformat_minor": 4
}
