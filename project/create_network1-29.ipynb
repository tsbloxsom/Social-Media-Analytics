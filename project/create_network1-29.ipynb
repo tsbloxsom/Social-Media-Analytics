{
 "cells": [
  {
   "cell_type": "code",
   "execution_count": 1,
   "metadata": {},
   "outputs": [
    {
     "data": {
      "text/html": [
       "<div>\n",
       "<style scoped>\n",
       "    .dataframe tbody tr th:only-of-type {\n",
       "        vertical-align: middle;\n",
       "    }\n",
       "\n",
       "    .dataframe tbody tr th {\n",
       "        vertical-align: top;\n",
       "    }\n",
       "\n",
       "    .dataframe thead th {\n",
       "        text-align: right;\n",
       "    }\n",
       "</style>\n",
       "<table border=\"1\" class=\"dataframe\">\n",
       "  <thead>\n",
       "    <tr style=\"text-align: right;\">\n",
       "      <th></th>\n",
       "      <th>username</th>\n",
       "      <th>to</th>\n",
       "      <th>text</th>\n",
       "      <th>retweets</th>\n",
       "      <th>favorites</th>\n",
       "      <th>mentions</th>\n",
       "      <th>hashtags</th>\n",
       "      <th>geo</th>\n",
       "      <th>newdate</th>\n",
       "    </tr>\n",
       "  </thead>\n",
       "  <tbody>\n",
       "    <tr>\n",
       "      <td>0</td>\n",
       "      <td>USAOmbudsman</td>\n",
       "      <td>NaN</td>\n",
       "      <td>They know as much about medicine as they do ab...</td>\n",
       "      <td>0</td>\n",
       "      <td>0</td>\n",
       "      <td>NaN</td>\n",
       "      <td>#QAnon #Coronavirus #bigdummies #MAGA</td>\n",
       "      <td>NaN</td>\n",
       "      <td>2020-1-29</td>\n",
       "    </tr>\n",
       "    <tr>\n",
       "      <td>1</td>\n",
       "      <td>ktikariza</td>\n",
       "      <td>NaN</td>\n",
       "      <td>Señores para qué #coronavirus en Colombia, si ...</td>\n",
       "      <td>23</td>\n",
       "      <td>84</td>\n",
       "      <td>NaN</td>\n",
       "      <td>#coronavirus</td>\n",
       "      <td>NaN</td>\n",
       "      <td>2020-1-29</td>\n",
       "    </tr>\n",
       "    <tr>\n",
       "      <td>2</td>\n",
       "      <td>LejournalFR</td>\n",
       "      <td>NaN</td>\n",
       "      <td>#coronavirus Urgent La commission nationale d...</td>\n",
       "      <td>7</td>\n",
       "      <td>7</td>\n",
       "      <td>NaN</td>\n",
       "      <td>#coronavirus #Chine #Tibet #Chine</td>\n",
       "      <td>NaN</td>\n",
       "      <td>2020-1-29</td>\n",
       "    </tr>\n",
       "    <tr>\n",
       "      <td>3</td>\n",
       "      <td>OttoBismarck00</td>\n",
       "      <td>NaN</td>\n",
       "      <td>Resmi açıklamaya göre ölü sayısı 170, vaka sa...</td>\n",
       "      <td>0</td>\n",
       "      <td>0</td>\n",
       "      <td>NaN</td>\n",
       "      <td>#coronavirus</td>\n",
       "      <td>NaN</td>\n",
       "      <td>2020-1-29</td>\n",
       "    </tr>\n",
       "    <tr>\n",
       "      <td>4</td>\n",
       "      <td>Alfred_Research</td>\n",
       "      <td>NaN</td>\n",
       "      <td>Grants for epilepsy and multiple sclerosis res...</td>\n",
       "      <td>0</td>\n",
       "      <td>0</td>\n",
       "      <td>@Alfred_Research</td>\n",
       "      <td>#coronavirus</td>\n",
       "      <td>NaN</td>\n",
       "      <td>2020-1-29</td>\n",
       "    </tr>\n",
       "  </tbody>\n",
       "</table>\n",
       "</div>"
      ],
      "text/plain": [
       "          username   to                                               text  \\\n",
       "0     USAOmbudsman  NaN  They know as much about medicine as they do ab...   \n",
       "1        ktikariza  NaN  Señores para qué #coronavirus en Colombia, si ...   \n",
       "2      LejournalFR  NaN   #coronavirus Urgent La commission nationale d...   \n",
       "3   OttoBismarck00  NaN   Resmi açıklamaya göre ölü sayısı 170, vaka sa...   \n",
       "4  Alfred_Research  NaN  Grants for epilepsy and multiple sclerosis res...   \n",
       "\n",
       "   retweets  favorites          mentions  \\\n",
       "0         0          0               NaN   \n",
       "1        23         84               NaN   \n",
       "2         7          7               NaN   \n",
       "3         0          0               NaN   \n",
       "4         0          0  @Alfred_Research   \n",
       "\n",
       "                                hashtags  geo    newdate  \n",
       "0  #QAnon #Coronavirus #bigdummies #MAGA  NaN  2020-1-29  \n",
       "1                           #coronavirus  NaN  2020-1-29  \n",
       "2      #coronavirus #Chine #Tibet #Chine  NaN  2020-1-29  \n",
       "3                           #coronavirus  NaN  2020-1-29  \n",
       "4                           #coronavirus  NaN  2020-1-29  "
      ]
     },
     "execution_count": 1,
     "metadata": {},
     "output_type": "execute_result"
    }
   ],
   "source": [
    "import networkx as nx\n",
    "import pandas as pd\n",
    "import re\n",
    "\n",
    "coronavirus = pd.read_csv('#coronavirus_tweets_1_28.csv').drop('Unnamed: 0', axis=1)\n",
    "wuhan = pd.read_csv('wuhan_tweets1-29.csv').drop('Unnamed: 0', axis=1)\n",
    "\n",
    "tweets = coronavirus.append(wuhan).drop('date', axis=1).drop_duplicates()\n",
    "tweets.head(5)"
   ]
  },
  {
   "cell_type": "code",
   "execution_count": 23,
   "metadata": {},
   "outputs": [],
   "source": [
    "edges = tweets[['username','to']]\n",
    "edges = edges.ffill(axis=1)\n",
    "edges['text'] = tweets['text']"
   ]
  },
  {
   "cell_type": "code",
   "execution_count": 24,
   "metadata": {},
   "outputs": [],
   "source": [
    "G = nx.convert_matrix.from_pandas_edgelist(edges, 'username','to', create_using=nx.DiGraph) "
   ]
  },
  {
   "cell_type": "code",
   "execution_count": 25,
   "metadata": {},
   "outputs": [],
   "source": [
    "betweenness = nx.betweenness_centrality(G)\n",
    "degree = nx.degree_centrality(G)\n",
    "closeness = nx.closeness_centrality(G)"
   ]
  },
  {
   "cell_type": "code",
   "execution_count": 43,
   "metadata": {},
   "outputs": [],
   "source": [
    "betweenness_dict = {k: v*100000 for k, v in sorted(betweenness.items(), key=lambda item: item[1], reverse=True)}"
   ]
  },
  {
   "cell_type": "code",
   "execution_count": 44,
   "metadata": {},
   "outputs": [],
   "source": [
    "#{k: v for k, v in sorted(betweenness_dict.items(), key=lambda item: item[1], reverse=True)[:25]}"
   ]
  },
  {
   "cell_type": "code",
   "execution_count": 45,
   "metadata": {},
   "outputs": [],
   "source": [
    "betweenness_df = pd.DataFrame(betweenness_dict.items())\n",
    "betweenness_df.columns = [\"Name\",\"Betweenness\"]\n",
    "#betweenness_df.head()"
   ]
  },
  {
   "cell_type": "code",
   "execution_count": 2,
   "metadata": {},
   "outputs": [],
   "source": [
    "classes = pd.read_csv('AllPeriod.csv')\n",
    "#classes.head()"
   ]
  },
  {
   "cell_type": "code",
   "execution_count": 47,
   "metadata": {},
   "outputs": [],
   "source": [
    "merged_bet = betweenness_df.merge(classes, left_on = \"Name\", right_on = \"Name\")\n",
    "merged_bet = merged_bet.drop_duplicates()"
   ]
  },
  {
   "cell_type": "code",
   "execution_count": 48,
   "metadata": {},
   "outputs": [
    {
     "data": {
      "text/plain": [
       "Class\n",
       "N    0.000296\n",
       "S    0.000253\n",
       "O    0.000000\n",
       "Name: Betweenness, dtype: float64"
      ]
     },
     "execution_count": 48,
     "metadata": {},
     "output_type": "execute_result"
    }
   ],
   "source": [
    "merged_bet.groupby(\"Class\")[\"Betweenness\"].mean().sort_values(ascending=False)"
   ]
  },
  {
   "cell_type": "code",
   "execution_count": 50,
   "metadata": {},
   "outputs": [],
   "source": [
    "degree_dict = {k: v for k, v in sorted(degree.items(), key=lambda item: item[1], reverse=True)}"
   ]
  },
  {
   "cell_type": "code",
   "execution_count": 49,
   "metadata": {},
   "outputs": [],
   "source": [
    "#{k: v for k, v in sorted(degree.items(), key=lambda item: item[1], reverse=True)[:25]}"
   ]
  },
  {
   "cell_type": "code",
   "execution_count": 51,
   "metadata": {},
   "outputs": [],
   "source": [
    "#pd.DataFrame(degree_dict.items())"
   ]
  },
  {
   "cell_type": "code",
   "execution_count": 52,
   "metadata": {},
   "outputs": [
    {
     "name": "stdout",
     "output_type": "stream",
     "text": [
      "Degree\n"
     ]
    },
    {
     "data": {
      "text/plain": [
       "Class\n",
       "N    0.000877\n",
       "S    0.000169\n",
       "O    0.000097\n",
       "Name: Degree, dtype: float64"
      ]
     },
     "execution_count": 52,
     "metadata": {},
     "output_type": "execute_result"
    }
   ],
   "source": [
    "betweenness_df = pd.DataFrame(degree_dict.items())\n",
    "betweenness_df.columns = [\"Name\",\"Degree\"]\n",
    "\n",
    "merged_bet = betweenness_df.merge(classes, left_on = \"Name\", right_on = \"Name\")\n",
    "merged_bet = merged_bet.drop_duplicates()\n",
    "\n",
    "print(\"Degree\")\n",
    "merged_bet.groupby(\"Class\")[\"Degree\"].mean().sort_values(ascending=False)"
   ]
  },
  {
   "cell_type": "code",
   "execution_count": 53,
   "metadata": {},
   "outputs": [],
   "source": [
    "closeness_dict = {k: v for k, v in sorted(closeness.items(), key=lambda item: item[1], reverse=True)}"
   ]
  },
  {
   "cell_type": "code",
   "execution_count": 54,
   "metadata": {},
   "outputs": [],
   "source": [
    "#{k: v for k, v in sorted(closeness.items(), key=lambda item: item[1], reverse=True)[:25]}"
   ]
  },
  {
   "cell_type": "code",
   "execution_count": 55,
   "metadata": {},
   "outputs": [],
   "source": [
    "#pd.DataFrame(closeness_dict.items())"
   ]
  },
  {
   "cell_type": "code",
   "execution_count": 56,
   "metadata": {},
   "outputs": [
    {
     "name": "stdout",
     "output_type": "stream",
     "text": [
      "closeness\n"
     ]
    },
    {
     "data": {
      "text/plain": [
       "Class\n",
       "N    0.000795\n",
       "S    0.000071\n",
       "O    0.000000\n",
       "Name: Closeness, dtype: float64"
      ]
     },
     "execution_count": 56,
     "metadata": {},
     "output_type": "execute_result"
    }
   ],
   "source": [
    "betweenness_df = pd.DataFrame(closeness_dict.items())\n",
    "betweenness_df.columns = [\"Name\",\"Closeness\"]\n",
    "\n",
    "merged_bet = betweenness_df.merge(classes, left_on = \"Name\", right_on = \"Name\")\n",
    "merged_bet = merged_bet.drop_duplicates()\n",
    "\n",
    "print(\"closeness\")\n",
    "merged_bet.groupby(\"Class\")[\"Closeness\"].mean().sort_values(ascending=False)"
   ]
  },
  {
   "cell_type": "markdown",
   "metadata": {},
   "source": [
    "### create graph network"
   ]
  },
  {
   "cell_type": "code",
   "execution_count": 3,
   "metadata": {},
   "outputs": [],
   "source": [
    "merged_df = tweets.merge(classes, left_on = \"username\", right_on = \"Name\")"
   ]
  },
  {
   "cell_type": "code",
   "execution_count": 4,
   "metadata": {},
   "outputs": [
    {
     "data": {
      "text/plain": [
       "(84, 11)"
      ]
     },
     "execution_count": 4,
     "metadata": {},
     "output_type": "execute_result"
    }
   ],
   "source": [
    "pd.set_option('display.max_rows', 500)\n",
    "merged_df.shape"
   ]
  },
  {
   "cell_type": "code",
   "execution_count": 5,
   "metadata": {},
   "outputs": [
    {
     "data": {
      "text/plain": [
       "(84, 11)"
      ]
     },
     "execution_count": 5,
     "metadata": {},
     "output_type": "execute_result"
    }
   ],
   "source": [
    "clean_df = merged_df.ffill(axis = 1)\n",
    "clean_df.shape"
   ]
  },
  {
   "cell_type": "code",
   "execution_count": 9,
   "metadata": {},
   "outputs": [],
   "source": [
    "G = nx.from_pandas_edgelist(clean_df, \"username\", \"to\", edge_attr = \"retweets\", create_using = nx.MultiGraph())"
   ]
  },
  {
   "cell_type": "markdown",
   "metadata": {},
   "source": [
    "### color map: blue = news, green = scientist, black = other, grey = classified node tweets to someone unclassified "
   ]
  },
  {
   "cell_type": "code",
   "execution_count": 10,
   "metadata": {},
   "outputs": [],
   "source": [
    "color_map = []\n",
    "num_nodes = []\n",
    "\n",
    "def create_color_map(G):\n",
    "    for node in G:\n",
    "        num_nodes.append(node)\n",
    "        #print(node)\n",
    "        node_class = clean_df[clean_df[\"username\"] == node][\"Class\"].unique()\n",
    "        if len(node_class) == 1:\n",
    "            if node_class[0] == \"S\":\n",
    "                color_map.append(\"green\")\n",
    "            elif node_class[0] == \"N\":\n",
    "                color_map.append(\"blue\")\n",
    "            else:\n",
    "                color_map.append(\"black\")\n",
    "        if len(node_class) == 0:\n",
    "            color_map.append(\"grey\")\n",
    "        #print(node_class)\n",
    "        #print(len(node_class))\n",
    "                \n",
    "create_color_map(G)"
   ]
  },
  {
   "cell_type": "code",
   "execution_count": 12,
   "metadata": {},
   "outputs": [
    {
     "data": {
      "image/png": "[encoded data removed]",
      "text/plain": [
       "<Figure size 1440x720 with 1 Axes>"
      ]
     },
     "metadata": {},
     "output_type": "display_data"
    }
   ],
   "source": [
    "import matplotlib.pyplot as plt\n",
    "from matplotlib.pyplot import figure\n",
    "\n",
    "figure(figsize=(20,10))\n",
    "\n",
    "pos = nx.spring_layout(G, iterations = 30)\n",
    "nx.draw_networkx(G, pos, node_color=color_map)\n",
    "\n",
    "plt.show()"
   ]
  },
  {
   "cell_type": "code",
   "execution_count": null,
   "metadata": {},
   "outputs": [],
   "source": []
  }
 ],
 "metadata": {
  "kernelspec": {
   "display_name": "Python 3",
   "language": "python",
   "name": "python3"
  },
  "language_info": {
   "codemirror_mode": {
    "name": "ipython",
    "version": 3
   },
   "file_extension": ".py",
   "mimetype": "text/x-python",
   "name": "python",
   "nbconvert_exporter": "python",
   "pygments_lexer": "ipython3",
   "version": "3.7.4"
  }
 },
 "nbformat": 4,
 "nbformat_minor": 4
}
