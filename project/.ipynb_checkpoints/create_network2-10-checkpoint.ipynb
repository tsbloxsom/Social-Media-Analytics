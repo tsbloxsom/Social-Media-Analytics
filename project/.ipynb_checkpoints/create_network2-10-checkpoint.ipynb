{
 "cells": [
  {
   "cell_type": "code",
   "execution_count": 1,
   "metadata": {},
   "outputs": [
    {
     "data": {
      "text/html": [
       "<div>\n",
       "<style scoped>\n",
       "    .dataframe tbody tr th:only-of-type {\n",
       "        vertical-align: middle;\n",
       "    }\n",
       "\n",
       "    .dataframe tbody tr th {\n",
       "        vertical-align: top;\n",
       "    }\n",
       "\n",
       "    .dataframe thead th {\n",
       "        text-align: right;\n",
       "    }\n",
       "</style>\n",
       "<table border=\"1\" class=\"dataframe\">\n",
       "  <thead>\n",
       "    <tr style=\"text-align: right;\">\n",
       "      <th></th>\n",
       "      <th>username</th>\n",
       "      <th>to</th>\n",
       "      <th>text</th>\n",
       "      <th>retweets</th>\n",
       "      <th>favorites</th>\n",
       "      <th>mentions</th>\n",
       "      <th>hashtags</th>\n",
       "      <th>geo</th>\n",
       "      <th>newdate</th>\n",
       "    </tr>\n",
       "  </thead>\n",
       "  <tbody>\n",
       "    <tr>\n",
       "      <td>0</td>\n",
       "      <td>ZeDaAT</td>\n",
       "      <td>ruralbusinessbr</td>\n",
       "      <td>Para quem ainda não sabe oque fazer em relação...</td>\n",
       "      <td>0</td>\n",
       "      <td>0</td>\n",
       "      <td>NaN</td>\n",
       "      <td>#coronavirus #PraCegoVer</td>\n",
       "      <td>NaN</td>\n",
       "      <td>2020-2-9</td>\n",
       "    </tr>\n",
       "    <tr>\n",
       "      <td>1</td>\n",
       "      <td>DiarioYaracuyVE</td>\n",
       "      <td>NaN</td>\n",
       "      <td>#9Feb| #Amazon no acudirá al Mobile World Cong...</td>\n",
       "      <td>0</td>\n",
       "      <td>0</td>\n",
       "      <td>NaN</td>\n",
       "      <td>#9Feb #Amazon #coronavirus #Barcelona</td>\n",
       "      <td>NaN</td>\n",
       "      <td>2020-2-9</td>\n",
       "    </tr>\n",
       "    <tr>\n",
       "      <td>2</td>\n",
       "      <td>FrancoisGallot</td>\n",
       "      <td>NaN</td>\n",
       "      <td>#Coronavirus : le bilan en #Chine monte à 902 ...</td>\n",
       "      <td>0</td>\n",
       "      <td>0</td>\n",
       "      <td>@BFMTV</td>\n",
       "      <td>#Coronavirus #Chine</td>\n",
       "      <td>NaN</td>\n",
       "      <td>2020-2-9</td>\n",
       "    </tr>\n",
       "    <tr>\n",
       "      <td>3</td>\n",
       "      <td>JuliasJam</td>\n",
       "      <td>theboringhandle</td>\n",
       "      <td>Been following #coronavirus closely since earl...</td>\n",
       "      <td>1</td>\n",
       "      <td>1</td>\n",
       "      <td>NaN</td>\n",
       "      <td>#coronavirus #coronavirus</td>\n",
       "      <td>NaN</td>\n",
       "      <td>2020-2-9</td>\n",
       "    </tr>\n",
       "    <tr>\n",
       "      <td>4</td>\n",
       "      <td>Sccp4x</td>\n",
       "      <td>AFP</td>\n",
       "      <td>40 mil infectados por #Coronavirus</td>\n",
       "      <td>0</td>\n",
       "      <td>1</td>\n",
       "      <td>NaN</td>\n",
       "      <td>#Coronavirus</td>\n",
       "      <td>NaN</td>\n",
       "      <td>2020-2-9</td>\n",
       "    </tr>\n",
       "  </tbody>\n",
       "</table>\n",
       "</div>"
      ],
      "text/plain": [
       "          username               to  \\\n",
       "0           ZeDaAT  ruralbusinessbr   \n",
       "1  DiarioYaracuyVE              NaN   \n",
       "2   FrancoisGallot              NaN   \n",
       "3        JuliasJam  theboringhandle   \n",
       "4           Sccp4x              AFP   \n",
       "\n",
       "                                                text  retweets  favorites  \\\n",
       "0  Para quem ainda não sabe oque fazer em relação...         0          0   \n",
       "1  #9Feb| #Amazon no acudirá al Mobile World Cong...         0          0   \n",
       "2  #Coronavirus : le bilan en #Chine monte à 902 ...         0          0   \n",
       "3  Been following #coronavirus closely since earl...         1          1   \n",
       "4                40 mil infectados por #Coronavirus          0          1   \n",
       "\n",
       "  mentions                               hashtags  geo   newdate  \n",
       "0      NaN               #coronavirus #PraCegoVer  NaN  2020-2-9  \n",
       "1      NaN  #9Feb #Amazon #coronavirus #Barcelona  NaN  2020-2-9  \n",
       "2   @BFMTV                    #Coronavirus #Chine  NaN  2020-2-9  \n",
       "3      NaN              #coronavirus #coronavirus  NaN  2020-2-9  \n",
       "4      NaN                           #Coronavirus  NaN  2020-2-9  "
      ]
     },
     "execution_count": 1,
     "metadata": {},
     "output_type": "execute_result"
    }
   ],
   "source": [
    "import networkx as nx\n",
    "import pandas as pd\n",
    "import re\n",
    "\n",
    "coronavirus = pd.read_csv('#coronavirus_tweets_2_10.csv').drop('Unnamed: 0', axis=1)\n",
    "wuhan = pd.read_csv('wuhan_tweets2-10.csv').drop('Unnamed: 0', axis=1)\n",
    "\n",
    "tweets = coronavirus.append(wuhan).drop('date', axis=1).drop_duplicates()\n",
    "tweets.head(5)"
   ]
  },
  {
   "cell_type": "code",
   "execution_count": 2,
   "metadata": {},
   "outputs": [],
   "source": [
    "edges = tweets[['username','to']]\n",
    "edges = edges.ffill(axis=1)\n",
    "edges['text'] = tweets['text']"
   ]
  },
  {
   "cell_type": "code",
   "execution_count": 11,
   "metadata": {},
   "outputs": [],
   "source": [
    "G = nx.convert_matrix.from_pandas_edgelist(edges, 'username','to', create_using=nx.DiGraph) "
   ]
  },
  {
   "cell_type": "code",
   "execution_count": 12,
   "metadata": {},
   "outputs": [],
   "source": [
    "betweenness = nx.betweenness_centrality(G)\n",
    "degree = nx.degree_centrality(G)\n",
    "closeness = nx.closeness_centrality(G)"
   ]
  },
  {
   "cell_type": "code",
   "execution_count": 15,
   "metadata": {},
   "outputs": [],
   "source": [
    "betweenness_dict = {k: v*100000 for k, v in sorted(betweenness.items(), key=lambda item: item[1], reverse=True)}"
   ]
  },
  {
   "cell_type": "code",
   "execution_count": 16,
   "metadata": {},
   "outputs": [],
   "source": [
    "#{k: v for k, v in sorted(betweenness_dict.items(), key=lambda item: item[1], reverse=True)[:25]}"
   ]
  },
  {
   "cell_type": "code",
   "execution_count": 17,
   "metadata": {},
   "outputs": [],
   "source": [
    "betweenness_df = pd.DataFrame(betweenness_dict.items())\n",
    "betweenness_df.columns = [\"Name\",\"Betweenness\"]\n",
    "#betweenness_df.head()"
   ]
  },
  {
   "cell_type": "code",
   "execution_count": 2,
   "metadata": {},
   "outputs": [],
   "source": [
    "classes = pd.read_csv('AllPeriod.csv')\n",
    "#classes.head()"
   ]
  },
  {
   "cell_type": "code",
   "execution_count": 19,
   "metadata": {},
   "outputs": [],
   "source": [
    "merged_bet = betweenness_df.merge(classes, left_on = \"Name\", right_on = \"Name\")\n",
    "merged_bet = merged_bet.drop_duplicates()"
   ]
  },
  {
   "cell_type": "code",
   "execution_count": 20,
   "metadata": {},
   "outputs": [
    {
     "data": {
      "text/plain": [
       "Class\n",
       "S    0.001939\n",
       "N    0.001450\n",
       "O    0.000000\n",
       "Name: Betweenness, dtype: float64"
      ]
     },
     "execution_count": 20,
     "metadata": {},
     "output_type": "execute_result"
    }
   ],
   "source": [
    "merged_bet.groupby(\"Class\")[\"Betweenness\"].mean().sort_values(ascending=False)"
   ]
  },
  {
   "cell_type": "code",
   "execution_count": 23,
   "metadata": {},
   "outputs": [],
   "source": [
    "degree_dict = {k: v for k, v in sorted(degree.items(), key=lambda item: item[1], reverse=True)}"
   ]
  },
  {
   "cell_type": "code",
   "execution_count": 21,
   "metadata": {},
   "outputs": [],
   "source": [
    "#{k: v for k, v in sorted(degree.items(), key=lambda item: item[1], reverse=True)[:25]}"
   ]
  },
  {
   "cell_type": "code",
   "execution_count": 22,
   "metadata": {},
   "outputs": [],
   "source": [
    "#pd.DataFrame(degree_dict.items())"
   ]
  },
  {
   "cell_type": "code",
   "execution_count": 25,
   "metadata": {},
   "outputs": [
    {
     "name": "stdout",
     "output_type": "stream",
     "text": [
      "degree\n"
     ]
    },
    {
     "data": {
      "text/plain": [
       "Class\n",
       "N    0.001444\n",
       "S    0.000414\n",
       "O    0.000262\n",
       "Name: Degree, dtype: float64"
      ]
     },
     "execution_count": 25,
     "metadata": {},
     "output_type": "execute_result"
    }
   ],
   "source": [
    "betweenness_df = pd.DataFrame(degree_dict.items())\n",
    "betweenness_df.columns = [\"Name\",\"Degree\"]\n",
    "\n",
    "merged_bet = betweenness_df.merge(classes, left_on = \"Name\", right_on = \"Name\")\n",
    "merged_bet = merged_bet.drop_duplicates()\n",
    "\n",
    "print(\"degree\")\n",
    "merged_bet.groupby(\"Class\")[\"Degree\"].mean().sort_values(ascending=False)"
   ]
  },
  {
   "cell_type": "code",
   "execution_count": 26,
   "metadata": {},
   "outputs": [],
   "source": [
    "closeness_dict = {k: v for k, v in sorted(closeness.items(), key=lambda item: item[1], reverse=True)}"
   ]
  },
  {
   "cell_type": "code",
   "execution_count": 27,
   "metadata": {},
   "outputs": [],
   "source": [
    "#{k: v for k, v in sorted(closeness.items(), key=lambda item: item[1], reverse=True)[:25]}"
   ]
  },
  {
   "cell_type": "code",
   "execution_count": 28,
   "metadata": {},
   "outputs": [],
   "source": [
    "#pd.DataFrame(closeness_dict.items())"
   ]
  },
  {
   "cell_type": "code",
   "execution_count": 29,
   "metadata": {},
   "outputs": [
    {
     "name": "stdout",
     "output_type": "stream",
     "text": [
      "closeness\n"
     ]
    },
    {
     "data": {
      "text/plain": [
       "Class\n",
       "N    0.001405\n",
       "S    0.000249\n",
       "O    0.000119\n",
       "Name: Closeness, dtype: float64"
      ]
     },
     "execution_count": 29,
     "metadata": {},
     "output_type": "execute_result"
    }
   ],
   "source": [
    "betweenness_df = pd.DataFrame(closeness_dict.items())\n",
    "betweenness_df.columns = [\"Name\",\"Closeness\"]\n",
    "\n",
    "merged_bet = betweenness_df.merge(classes, left_on = \"Name\", right_on = \"Name\")\n",
    "merged_bet = merged_bet.drop_duplicates()\n",
    "\n",
    "print(\"closeness\")\n",
    "merged_bet.groupby(\"Class\")[\"Closeness\"].mean().sort_values(ascending=False)"
   ]
  },
  {
   "cell_type": "markdown",
   "metadata": {},
   "source": [
    "### create graph network"
   ]
  },
  {
   "cell_type": "code",
   "execution_count": 3,
   "metadata": {},
   "outputs": [],
   "source": [
    "merged_df = tweets.merge(classes, left_on = \"username\", right_on = \"Name\")"
   ]
  },
  {
   "cell_type": "code",
   "execution_count": 4,
   "metadata": {},
   "outputs": [
    {
     "data": {
      "text/plain": [
       "(62, 11)"
      ]
     },
     "execution_count": 4,
     "metadata": {},
     "output_type": "execute_result"
    }
   ],
   "source": [
    "pd.set_option('display.max_rows', 500)\n",
    "merged_df.shape"
   ]
  },
  {
   "cell_type": "code",
   "execution_count": 5,
   "metadata": {},
   "outputs": [
    {
     "data": {
      "text/plain": [
       "(62, 11)"
      ]
     },
     "execution_count": 5,
     "metadata": {},
     "output_type": "execute_result"
    }
   ],
   "source": [
    "clean_df = merged_df.ffill(axis = 1)\n",
    "clean_df.shape"
   ]
  },
  {
   "cell_type": "code",
   "execution_count": 6,
   "metadata": {},
   "outputs": [],
   "source": [
    "G = nx.from_pandas_edgelist(clean_df, \"username\", \"to\", edge_attr = \"retweets\", create_using = nx.MultiGraph())"
   ]
  },
  {
   "cell_type": "markdown",
   "metadata": {},
   "source": [
    "### color map: blue = news, green = scientist, black = other, grey = classified node tweets to someone unclassified "
   ]
  },
  {
   "cell_type": "code",
   "execution_count": 7,
   "metadata": {},
   "outputs": [],
   "source": [
    "color_map = []\n",
    "num_nodes = []\n",
    "\n",
    "def create_color_map(G):\n",
    "    for node in G:\n",
    "        num_nodes.append(node)\n",
    "        #print(node)\n",
    "        node_class = clean_df[clean_df[\"username\"] == node][\"Class\"].unique()\n",
    "        if len(node_class) == 1:\n",
    "            if node_class[0] == \"S\":\n",
    "                color_map.append(\"green\")\n",
    "            elif node_class[0] == \"N\":\n",
    "                color_map.append(\"blue\")\n",
    "            else:\n",
    "                color_map.append(\"black\")\n",
    "        if len(node_class) == 0:\n",
    "            color_map.append(\"grey\")\n",
    "        #print(node_class)\n",
    "        #print(len(node_class))\n",
    "                \n",
    "create_color_map(G)"
   ]
  },
  {
   "cell_type": "code",
   "execution_count": 9,
   "metadata": {},
   "outputs": [
    {
     "data": {
      "image/png": "[encoded data removed]",
      "text/plain": [
       "<Figure size 1440x720 with 1 Axes>"
      ]
     },
     "metadata": {},
     "output_type": "display_data"
    }
   ],
   "source": [
    "import matplotlib.pyplot as plt\n",
    "from matplotlib.pyplot import figure\n",
    "\n",
    "figure(figsize=(20,10))\n",
    "\n",
    "pos = nx.spring_layout(G, iterations = 30)\n",
    "nx.draw_networkx(G, pos, node_color=color_map)\n",
    "\n",
    "plt.show()"
   ]
  },
  {
   "cell_type": "code",
   "execution_count": null,
   "metadata": {},
   "outputs": [],
   "source": []
  }
 ],
 "metadata": {
  "kernelspec": {
   "display_name": "Python 3",
   "language": "python",
   "name": "python3"
  },
  "language_info": {
   "codemirror_mode": {
    "name": "ipython",
    "version": 3
   },
   "file_extension": ".py",
   "mimetype": "text/x-python",
   "name": "python",
   "nbconvert_exporter": "python",
   "pygments_lexer": "ipython3",
   "version": "3.7.4"
  }
 },
 "nbformat": 4,
 "nbformat_minor": 4
}
