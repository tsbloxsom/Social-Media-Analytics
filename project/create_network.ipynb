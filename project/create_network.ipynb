{
 "cells": [
  {
   "cell_type": "code",
   "execution_count": 1,
   "metadata": {},
   "outputs": [],
   "source": [
    "import networkx as nx\n",
    "import pandas as pd\n",
    "import re\n",
    "\n",
    "coronavirus = pd.read_csv('#coronavirus_tweets.csv').drop('Unnamed: 0', axis=1)\n",
    "wuhan = pd.read_csv('wuhan_tweets.csv').drop('Unnamed: 0', axis=1)\n",
    "\n",
    "tweets = coronavirus.append(wuhan).drop('date', axis=1).drop_duplicates()\n",
    "#tweets.head(20)"
   ]
  },
  {
   "cell_type": "code",
   "execution_count": 2,
   "metadata": {},
   "outputs": [],
   "source": [
    "edges = tweets[['username','to']]\n",
    "edges = edges.ffill(axis=1)\n",
    "edges['text'] = tweets['text']\n",
    "\n",
    "# edges['username'] = edges['username'].map(lambda x : x if x not in change_name.items else change_name[x])\n",
    "# edges['to'] = edges['to'].map(lambda x : x if x not in change_name.items else change_name[x])\n",
    "\n",
    "\n",
    "# change_name = {'MackayIM':'scientist',\n",
    "#                'hayesluk': 'scientist',\n",
    "#                'Laurie_Garret': 'scientist',\n",
    "#                'microBIOblog': 'scientist',\n",
    "#                'XavierAbadMdG': 'scientist',\n",
    "#                'V2019N': 'news',\n",
    "#                'WHO': 'news',\n",
    "#                'CDCgov': 'news'}\n",
    "                \n",
    "#scientists:  MackayIM, hayesluk, Laurie_Garret, microBIOblog, 'XavierAbadMdG'\n",
    "#news: V2019N, WHO, CDCgov"
   ]
  },
  {
   "cell_type": "code",
   "execution_count": 57,
   "metadata": {},
   "outputs": [],
   "source": [
    "G = nx.convert_matrix.from_pandas_edgelist(edges, 'username','to', create_using=nx.DiGraph) "
   ]
  },
  {
   "cell_type": "code",
   "execution_count": 58,
   "metadata": {},
   "outputs": [],
   "source": [
    "betweenness = nx.betweenness_centrality(G)\n",
    "degree = nx.degree_centrality(G)\n",
    "closeness = nx.closeness_centrality(G)"
   ]
  },
  {
   "cell_type": "code",
   "execution_count": 74,
   "metadata": {},
   "outputs": [],
   "source": [
    "betweenness_dict = {k: v*100000 for k, v in sorted(betweenness.items(), key=lambda item: item[1], reverse=True)}"
   ]
  },
  {
   "cell_type": "code",
   "execution_count": 75,
   "metadata": {},
   "outputs": [
    {
     "data": {
      "text/plain": [
       "{'MackayIM': 0.22976419193279973,\n",
       " 'hayesluk': 0.15257778370537484,\n",
       " 'HelenBranswell': 0.13372993983588735,\n",
       " 'arambaut': 0.11847216146534988,\n",
       " 'Laurie_Garrett': 0.11577961234113736,\n",
       " 'CentroGripe': 0.10770196496849987,\n",
       " 'V2019N': 0.07898144097689991,\n",
       " 'microBIOblog': 0.07359634272847491,\n",
       " 'DerekGatherer': 0.061928629856887435,\n",
       " 'greg_folkers': 0.056543531608462434,\n",
       " 'Crof': 0.037695687738974956,\n",
       " 'descoladoen': 0.03679817136423746,\n",
       " 'davidpaulk': 0.030515556741074965,\n",
       " 'JATetro': 0.021540392993699975,\n",
       " 'statesdj': 0.01615529474527498,\n",
       " 'ai6yrham': 0.015257778370537482,\n",
       " 'NoticiasONU': 0.012565229246324985,\n",
       " 'doctormacias': 0.010770196496849987,\n",
       " 'DrTedros': 0.00897516374737499,\n",
       " 'lookner': 0.00897516374737499,\n",
       " 'RobRoy_CN': 0.00807764737263749,\n",
       " 'IndoPac_Info': 0.007180130997899992,\n",
       " 'iarayah': 0.007180130997899992,\n",
       " 'BNODesk': 0.006282614623162493,\n",
       " 'drrandywax': 0.006282614623162493}"
      ]
     },
     "execution_count": 75,
     "metadata": {},
     "output_type": "execute_result"
    }
   ],
   "source": [
    "{k: v for k, v in sorted(betweenness_dict.items(), key=lambda item: item[1], reverse=True)[:25]}"
   ]
  },
  {
   "cell_type": "code",
   "execution_count": null,
   "metadata": {},
   "outputs": [],
   "source": [
    "#scientists:  MackayIM, hayesluk, Laurie_Garret, microBIOblog, 'XavierAbadMdG'\n",
    "#news: V2019N, WHO, CDCgov"
   ]
  },
  {
   "cell_type": "code",
   "execution_count": 83,
   "metadata": {},
   "outputs": [
    {
     "data": {
      "text/html": [
       "<div>\n",
       "<style scoped>\n",
       "    .dataframe tbody tr th:only-of-type {\n",
       "        vertical-align: middle;\n",
       "    }\n",
       "\n",
       "    .dataframe tbody tr th {\n",
       "        vertical-align: top;\n",
       "    }\n",
       "\n",
       "    .dataframe thead th {\n",
       "        text-align: right;\n",
       "    }\n",
       "</style>\n",
       "<table border=\"1\" class=\"dataframe\">\n",
       "  <thead>\n",
       "    <tr style=\"text-align: right;\">\n",
       "      <th></th>\n",
       "      <th>0</th>\n",
       "      <th>1</th>\n",
       "    </tr>\n",
       "  </thead>\n",
       "  <tbody>\n",
       "    <tr>\n",
       "      <td>0</td>\n",
       "      <td>MackayIM</td>\n",
       "      <td>0.229764</td>\n",
       "    </tr>\n",
       "    <tr>\n",
       "      <td>1</td>\n",
       "      <td>hayesluk</td>\n",
       "      <td>0.152578</td>\n",
       "    </tr>\n",
       "    <tr>\n",
       "      <td>2</td>\n",
       "      <td>HelenBranswell</td>\n",
       "      <td>0.133730</td>\n",
       "    </tr>\n",
       "    <tr>\n",
       "      <td>3</td>\n",
       "      <td>arambaut</td>\n",
       "      <td>0.118472</td>\n",
       "    </tr>\n",
       "    <tr>\n",
       "      <td>4</td>\n",
       "      <td>Laurie_Garrett</td>\n",
       "      <td>0.115780</td>\n",
       "    </tr>\n",
       "    <tr>\n",
       "      <td>...</td>\n",
       "      <td>...</td>\n",
       "      <td>...</td>\n",
       "    </tr>\n",
       "    <tr>\n",
       "      <td>10552</td>\n",
       "      <td>wohuijide</td>\n",
       "      <td>0.000000</td>\n",
       "    </tr>\n",
       "    <tr>\n",
       "      <td>10553</td>\n",
       "      <td>hanamkim</td>\n",
       "      <td>0.000000</td>\n",
       "    </tr>\n",
       "    <tr>\n",
       "      <td>10554</td>\n",
       "      <td>Sally33755</td>\n",
       "      <td>0.000000</td>\n",
       "    </tr>\n",
       "    <tr>\n",
       "      <td>10555</td>\n",
       "      <td>sabio28</td>\n",
       "      <td>0.000000</td>\n",
       "    </tr>\n",
       "    <tr>\n",
       "      <td>10556</td>\n",
       "      <td>DrZahwa</td>\n",
       "      <td>0.000000</td>\n",
       "    </tr>\n",
       "  </tbody>\n",
       "</table>\n",
       "<p>10557 rows × 2 columns</p>\n",
       "</div>"
      ],
      "text/plain": [
       "                    0         1\n",
       "0            MackayIM  0.229764\n",
       "1            hayesluk  0.152578\n",
       "2      HelenBranswell  0.133730\n",
       "3            arambaut  0.118472\n",
       "4      Laurie_Garrett  0.115780\n",
       "...               ...       ...\n",
       "10552       wohuijide  0.000000\n",
       "10553        hanamkim  0.000000\n",
       "10554      Sally33755  0.000000\n",
       "10555         sabio28  0.000000\n",
       "10556         DrZahwa  0.000000\n",
       "\n",
       "[10557 rows x 2 columns]"
      ]
     },
     "execution_count": 83,
     "metadata": {},
     "output_type": "execute_result"
    }
   ],
   "source": [
    "pd.DataFrame(betweenness_dict.items())"
   ]
  },
  {
   "cell_type": "code",
   "execution_count": 87,
   "metadata": {},
   "outputs": [],
   "source": [
    "degree_dict = {k: v for k, v in sorted(degree.items(), key=lambda item: item[1], reverse=True)}"
   ]
  },
  {
   "cell_type": "code",
   "execution_count": 88,
   "metadata": {},
   "outputs": [
    {
     "data": {
      "text/plain": [
       "{'WHO': 0.00975748389541493,\n",
       " 'ZulmaCucunuba': 0.0076733611216369835,\n",
       " 'CDCgov': 0.0038840469874952635,\n",
       " 'howroute': 0.0033156498673740055,\n",
       " 'CBCAlerts': 0.0028419856006062904,\n",
       " 'davidpaulk': 0.0024630541871921183,\n",
       " 'NPR': 0.002178855627131489,\n",
       " 'BNONews': 0.001989389920424403,\n",
       " 'CNN': 0.001989389920424403,\n",
       " 'AFP': 0.0018946570670708603,\n",
       " 'V2019N': 0.0017999242137173171,\n",
       " 'HelenBranswell': 0.0017999242137173171,\n",
       " 'WHOWPRO': 0.001610458507010231,\n",
       " 'jenniferatntd': 0.001610458507010231,\n",
       " 'hayesluk': 0.0015157256536566881,\n",
       " 'MackayIM': 0.0015157256536566881,\n",
       " 'cnnbrk': 0.001326259946949602,\n",
       " 'XavierAbadMdG': 0.0012315270935960591,\n",
       " 'lookner': 0.0012315270935960591,\n",
       " 'RFA_Chinese': 0.0012315270935960591,\n",
       " 'Conflits_FR': 0.001136794240242516,\n",
       " 'nytimes': 0.001136794240242516,\n",
       " 'WBYeats1865': 0.001136794240242516,\n",
       " 'BrownCheong': 0.001136794240242516,\n",
       " 'Laurie_Garrett': 0.001042061386888973}"
      ]
     },
     "execution_count": 88,
     "metadata": {},
     "output_type": "execute_result"
    }
   ],
   "source": [
    "{k: v for k, v in sorted(degree.items(), key=lambda item: item[1], reverse=True)[:25]}"
   ]
  },
  {
   "cell_type": "code",
   "execution_count": 94,
   "metadata": {},
   "outputs": [
    {
     "data": {
      "text/html": [
       "<div>\n",
       "<style scoped>\n",
       "    .dataframe tbody tr th:only-of-type {\n",
       "        vertical-align: middle;\n",
       "    }\n",
       "\n",
       "    .dataframe tbody tr th {\n",
       "        vertical-align: top;\n",
       "    }\n",
       "\n",
       "    .dataframe thead th {\n",
       "        text-align: right;\n",
       "    }\n",
       "</style>\n",
       "<table border=\"1\" class=\"dataframe\">\n",
       "  <thead>\n",
       "    <tr style=\"text-align: right;\">\n",
       "      <th></th>\n",
       "      <th>0</th>\n",
       "      <th>1</th>\n",
       "    </tr>\n",
       "  </thead>\n",
       "  <tbody>\n",
       "    <tr>\n",
       "      <td>0</td>\n",
       "      <td>WHO</td>\n",
       "      <td>0.009757</td>\n",
       "    </tr>\n",
       "    <tr>\n",
       "      <td>1</td>\n",
       "      <td>ZulmaCucunuba</td>\n",
       "      <td>0.007673</td>\n",
       "    </tr>\n",
       "    <tr>\n",
       "      <td>2</td>\n",
       "      <td>CDCgov</td>\n",
       "      <td>0.003884</td>\n",
       "    </tr>\n",
       "    <tr>\n",
       "      <td>3</td>\n",
       "      <td>howroute</td>\n",
       "      <td>0.003316</td>\n",
       "    </tr>\n",
       "    <tr>\n",
       "      <td>4</td>\n",
       "      <td>CBCAlerts</td>\n",
       "      <td>0.002842</td>\n",
       "    </tr>\n",
       "    <tr>\n",
       "      <td>...</td>\n",
       "      <td>...</td>\n",
       "      <td>...</td>\n",
       "    </tr>\n",
       "    <tr>\n",
       "      <td>10552</td>\n",
       "      <td>txhurl</td>\n",
       "      <td>0.000095</td>\n",
       "    </tr>\n",
       "    <tr>\n",
       "      <td>10553</td>\n",
       "      <td>El__Bohemio</td>\n",
       "      <td>0.000095</td>\n",
       "    </tr>\n",
       "    <tr>\n",
       "      <td>10554</td>\n",
       "      <td>ecapobianco</td>\n",
       "      <td>0.000095</td>\n",
       "    </tr>\n",
       "    <tr>\n",
       "      <td>10555</td>\n",
       "      <td>Next_Gen_Han</td>\n",
       "      <td>0.000095</td>\n",
       "    </tr>\n",
       "    <tr>\n",
       "      <td>10556</td>\n",
       "      <td>wohuijide</td>\n",
       "      <td>0.000095</td>\n",
       "    </tr>\n",
       "  </tbody>\n",
       "</table>\n",
       "<p>10557 rows × 2 columns</p>\n",
       "</div>"
      ],
      "text/plain": [
       "                   0         1\n",
       "0                WHO  0.009757\n",
       "1      ZulmaCucunuba  0.007673\n",
       "2             CDCgov  0.003884\n",
       "3           howroute  0.003316\n",
       "4          CBCAlerts  0.002842\n",
       "...              ...       ...\n",
       "10552         txhurl  0.000095\n",
       "10553    El__Bohemio  0.000095\n",
       "10554    ecapobianco  0.000095\n",
       "10555   Next_Gen_Han  0.000095\n",
       "10556      wohuijide  0.000095\n",
       "\n",
       "[10557 rows x 2 columns]"
      ]
     },
     "execution_count": 94,
     "metadata": {},
     "output_type": "execute_result"
    }
   ],
   "source": [
    "pd.DataFrame(degree_dict.items())"
   ]
  },
  {
   "cell_type": "code",
   "execution_count": 90,
   "metadata": {},
   "outputs": [],
   "source": [
    "closeness_dict = {k: v for k, v in sorted(closeness.items(), key=lambda item: item[1], reverse=True)}"
   ]
  },
  {
   "cell_type": "code",
   "execution_count": 91,
   "metadata": {},
   "outputs": [
    {
     "data": {
      "text/plain": [
       "{'WHO': 0.009882624825153561,\n",
       " 'ZulmaCucunuba': 0.007699386630800046,\n",
       " 'CDCgov': 0.003742914369233862,\n",
       " 'howroute': 0.003126184160666919,\n",
       " 'CBCAlerts': 0.002664361500568397,\n",
       " 'WHOWPRO': 0.002418711149452162,\n",
       " 'davidpaulk': 0.0023806777929716457,\n",
       " 'NPR': 0.001989389920424403,\n",
       " 'BNONews': 0.0018044353019722478,\n",
       " 'CNN': 0.0017999242137173171,\n",
       " 'AFP': 0.0017099280030314513,\n",
       " 'hayesluk': 0.0017051913603637742,\n",
       " 'catecadell': 0.0016285028600299535,\n",
       " 'FluTrackers': 0.0015923731440972823,\n",
       " 'HelenBranswell': 0.0015346722243273969,\n",
       " 'jenniferatntd': 0.001440936558903891,\n",
       " 'RFA_Chinese': 0.001367942402425161,\n",
       " 'rthk_enews': 0.001353326476479186,\n",
       " 'cnnbrk': 0.0013321807502841986,\n",
       " 'K_G_Andersen': 0.0012526658294683374,\n",
       " 'kinlinglo': 0.0011898098737706457,\n",
       " 'nytimes': 0.001143560872624912,\n",
       " 'PeterHorby': 0.0011084553524871826,\n",
       " 'RaynardToddnay1': 0.0010826611811833487,\n",
       " 'richardneher': 0.0010778493537114226}"
      ]
     },
     "execution_count": 91,
     "metadata": {},
     "output_type": "execute_result"
    }
   ],
   "source": [
    "{k: v for k, v in sorted(closeness.items(), key=lambda item: item[1], reverse=True)[:25]}"
   ]
  },
  {
   "cell_type": "code",
   "execution_count": 93,
   "metadata": {},
   "outputs": [
    {
     "data": {
      "text/html": [
       "<div>\n",
       "<style scoped>\n",
       "    .dataframe tbody tr th:only-of-type {\n",
       "        vertical-align: middle;\n",
       "    }\n",
       "\n",
       "    .dataframe tbody tr th {\n",
       "        vertical-align: top;\n",
       "    }\n",
       "\n",
       "    .dataframe thead th {\n",
       "        text-align: right;\n",
       "    }\n",
       "</style>\n",
       "<table border=\"1\" class=\"dataframe\">\n",
       "  <thead>\n",
       "    <tr style=\"text-align: right;\">\n",
       "      <th></th>\n",
       "      <th>0</th>\n",
       "      <th>1</th>\n",
       "    </tr>\n",
       "  </thead>\n",
       "  <tbody>\n",
       "    <tr>\n",
       "      <td>0</td>\n",
       "      <td>WHO</td>\n",
       "      <td>0.009883</td>\n",
       "    </tr>\n",
       "    <tr>\n",
       "      <td>1</td>\n",
       "      <td>ZulmaCucunuba</td>\n",
       "      <td>0.007699</td>\n",
       "    </tr>\n",
       "    <tr>\n",
       "      <td>2</td>\n",
       "      <td>CDCgov</td>\n",
       "      <td>0.003743</td>\n",
       "    </tr>\n",
       "    <tr>\n",
       "      <td>3</td>\n",
       "      <td>howroute</td>\n",
       "      <td>0.003126</td>\n",
       "    </tr>\n",
       "    <tr>\n",
       "      <td>4</td>\n",
       "      <td>CBCAlerts</td>\n",
       "      <td>0.002664</td>\n",
       "    </tr>\n",
       "    <tr>\n",
       "      <td>...</td>\n",
       "      <td>...</td>\n",
       "      <td>...</td>\n",
       "    </tr>\n",
       "    <tr>\n",
       "      <td>10552</td>\n",
       "      <td>Next_Gen_Han</td>\n",
       "      <td>0.000000</td>\n",
       "    </tr>\n",
       "    <tr>\n",
       "      <td>10553</td>\n",
       "      <td>hanamkim</td>\n",
       "      <td>0.000000</td>\n",
       "    </tr>\n",
       "    <tr>\n",
       "      <td>10554</td>\n",
       "      <td>Sally33755</td>\n",
       "      <td>0.000000</td>\n",
       "    </tr>\n",
       "    <tr>\n",
       "      <td>10555</td>\n",
       "      <td>sabio28</td>\n",
       "      <td>0.000000</td>\n",
       "    </tr>\n",
       "    <tr>\n",
       "      <td>10556</td>\n",
       "      <td>DrZahwa</td>\n",
       "      <td>0.000000</td>\n",
       "    </tr>\n",
       "  </tbody>\n",
       "</table>\n",
       "<p>10557 rows × 2 columns</p>\n",
       "</div>"
      ],
      "text/plain": [
       "                   0         1\n",
       "0                WHO  0.009883\n",
       "1      ZulmaCucunuba  0.007699\n",
       "2             CDCgov  0.003743\n",
       "3           howroute  0.003126\n",
       "4          CBCAlerts  0.002664\n",
       "...              ...       ...\n",
       "10552   Next_Gen_Han  0.000000\n",
       "10553       hanamkim  0.000000\n",
       "10554     Sally33755  0.000000\n",
       "10555        sabio28  0.000000\n",
       "10556        DrZahwa  0.000000\n",
       "\n",
       "[10557 rows x 2 columns]"
      ]
     },
     "execution_count": 93,
     "metadata": {},
     "output_type": "execute_result"
    }
   ],
   "source": [
    "pd.DataFrame(closeness_dict.items())"
   ]
  },
  {
   "cell_type": "code",
   "execution_count": 32,
   "metadata": {},
   "outputs": [
    {
     "name": "stderr",
     "output_type": "stream",
     "text": [
      "C:\\Users\\chris\\Anaconda3\\lib\\site-packages\\networkx\\drawing\\nx_pylab.py:579: MatplotlibDeprecationWarning: \n",
      "The iterable function was deprecated in Matplotlib 3.1 and will be removed in 3.3. Use np.iterable instead.\n",
      "  if not cb.iterable(width):\n",
      "C:\\Users\\chris\\Anaconda3\\lib\\site-packages\\networkx\\drawing\\nx_pylab.py:676: MatplotlibDeprecationWarning: \n",
      "The iterable function was deprecated in Matplotlib 3.1 and will be removed in 3.3. Use np.iterable instead.\n",
      "  if cb.iterable(node_size):  # many node sizes\n"
     ]
    },
    {
     "data": {
      "text/plain": [
       "<Figure size 18000x9000 with 1 Axes>"
      ]
     },
     "metadata": {},
     "output_type": "display_data"
    }
   ],
   "source": [
    "import matplotlib.pyplot as plt\n",
    "\n",
    "G_subset = nx.convert_matrix.from_pandas_edgelist(edges, 'username','to')\n",
    "plt.figure(figsize=(180,90))\n",
    "nx.draw(G, with_labels=True, width=2.0, alpha = .5)\n",
    "\n",
    "plt.show()"
   ]
  }
 ],
 "metadata": {
  "kernelspec": {
   "display_name": "Python 3",
   "language": "python",
   "name": "python3"
  },
  "language_info": {
   "codemirror_mode": {
    "name": "ipython",
    "version": 3
   },
   "file_extension": ".py",
   "mimetype": "text/x-python",
   "name": "python",
   "nbconvert_exporter": "python",
   "pygments_lexer": "ipython3",
   "version": "3.7.4"
  }
 },
 "nbformat": 4,
 "nbformat_minor": 4
}
