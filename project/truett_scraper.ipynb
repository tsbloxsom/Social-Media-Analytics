{
 "cells": [
  {
   "cell_type": "code",
   "execution_count": 1,
   "metadata": {},
   "outputs": [],
   "source": [
    "import GetOldTweets3 as got\n",
    "import datetime\n",
    "import pandas as pd\n",
    "import numpy as np\n",
    "import matplotlib.pyplot as plt"
   ]
  },
  {
   "cell_type": "code",
   "execution_count": 5,
   "metadata": {},
   "outputs": [],
   "source": [
    "num_days = 3\n",
    "\n",
    "dates = [datetime.date(day=8,month=2,year=2020) + datetime.timedelta(days=x+1) for x in range(num_days)]\n",
    "\n",
    "all_tweets = pd.DataFrame()\n",
    "\n",
    "for date in dates:\n",
    "    tweetCriteria = got.manager.TweetCriteria().setQuerySearch('wuhan')\\\n",
    "                                               .setSince(str(date))\\\n",
    "                                               .setUntil(str(date+datetime.timedelta(days=1)))\\\n",
    "                                               .setMaxTweets(3000)\n",
    "    tweets = got.manager.TweetManager.getTweets(tweetCriteria)\n",
    "\n",
    "    store_tweets = pd.DataFrame(columns = ['username', 'to', 'text', 'date', 'retweets',\n",
    "                                           'favorites','mentions', 'hashtags', 'geo'])\n",
    "\n",
    "    for tweet in tweets:\n",
    "        store_tweets.loc[tweet.id] = [tweet.username,tweet.to, tweet.text, \n",
    "                                      tweet.date, tweet.retweets, tweet.favorites, \n",
    "                                      tweet.mentions, tweet.hashtags, tweet.geo]\n",
    "    all_tweets = all_tweets.append(store_tweets)"
   ]
  },
  {
   "cell_type": "code",
   "execution_count": 6,
   "metadata": {},
   "outputs": [
    {
     "data": {
      "text/plain": [
       "(9000, 9)"
      ]
     },
     "execution_count": 6,
     "metadata": {},
     "output_type": "execute_result"
    }
   ],
   "source": [
    "all_tweets.shape"
   ]
  },
  {
   "cell_type": "code",
   "execution_count": 7,
   "metadata": {},
   "outputs": [],
   "source": [
    "all_tweets['newdate'] = all_tweets['date'].map(lambda x : (str(x.year) + '-' + str(x.month) + '-' + str(x.day)))\n",
    "all_tweets[all_tweets['newdate'] >= '2020-1-29'].to_csv('wuhan_tweets2-10.csv')"
   ]
  },
  {
   "cell_type": "code",
   "execution_count": null,
   "metadata": {},
   "outputs": [],
   "source": []
  }
 ],
 "metadata": {
  "kernelspec": {
   "display_name": "Python 3",
   "language": "python",
   "name": "python3"
  },
  "language_info": {
   "codemirror_mode": {
    "name": "ipython",
    "version": 3
   },
   "file_extension": ".py",
   "mimetype": "text/x-python",
   "name": "python",
   "nbconvert_exporter": "python",
   "pygments_lexer": "ipython3",
   "version": "3.7.4"
  }
 },
 "nbformat": 4,
 "nbformat_minor": 4
}
